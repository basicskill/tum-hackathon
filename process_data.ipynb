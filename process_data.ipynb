{
 "cells": [
  {
   "cell_type": "code",
   "execution_count": 1,
   "metadata": {},
   "outputs": [],
   "source": [
    "import numpy as np\n",
    "import pandas as pd\n",
    "import matplotlib.pyplot as plt\n",
    "import time\n",
    "path = \".././data_4_ScienceHack2021/\"\n",
    "output_path = \"./processed_data\"\n",
    "trip = 'trip_' + str(11)\n"
   ]
  },
  {
   "cell_type": "code",
   "execution_count": 2,
   "metadata": {},
   "outputs": [],
   "source": [
    "pass_data = pd.read_csv(path + trip + '/passenger_count_nums', sep=',', skiprows=[1])\n",
    "enter_station = pass_data[pass_data[\"Number_of_Passengers\"] == -10][\"Epoch_Time\"].to_numpy()\n",
    "leave_station = pass_data[pass_data[\"Number_of_Passengers\"] == -99][\"Epoch_Time\"].to_numpy()\n",
    "pass_between_station = pass_data[(pass_data[\"Number_of_Passengers\"] != -99) & (pass_data[\"Number_of_Passengers\"] != -10)][\"Number_of_Passengers\"].to_numpy()\n"
   ]
  },
  {
   "cell_type": "code",
   "execution_count": 3,
   "metadata": {
    "scrolled": false
   },
   "outputs": [],
   "source": [
    "data = pd.read_csv(path + trip + '/wifi_data.csv', sep=';')\n",
    "#data = data[(data[\"epoch_ts\"] > float(leave_station[0]))]\n",
    "reduced_data = data[['epoch_ts', 'mac_address', 'rssi']]\n",
    "#data"
   ]
  },
  {
   "cell_type": "code",
   "execution_count": 4,
   "metadata": {},
   "outputs": [
    {
     "name": "stdout",
     "output_type": "stream",
     "text": [
      "1618501821.94\n",
      "3\n",
      "<class 'numpy.ndarray'>\n",
      "[-4 -4 -4 -4 -4 -4 -6]\n",
      "         epoch_ts        mac_address  rssi\n",
      "47   1.618502e+09  b8:27:eb:6b:c4:60    -4\n",
      "50   1.618502e+09  b8:27:eb:6b:c4:60    -4\n",
      "52   1.618502e+09  b8:27:eb:6b:c4:60    -4\n",
      "53   1.618502e+09  b8:27:eb:6b:c4:60    -4\n",
      "54   1.618502e+09  b8:27:eb:6b:c4:60    -4\n",
      "217  1.618502e+09  b8:27:eb:6b:c4:60    -4\n",
      "218  1.618502e+09  b8:27:eb:6b:c4:60    -6\n",
      "1618501919.07\n",
      "1618501928.07\n",
      "4\n",
      "<class 'numpy.ndarray'>\n",
      "[-4  0 -8  4 -6 -2]\n",
      "         epoch_ts        mac_address  rssi\n",
      "328  1.618502e+09  b8:27:eb:6b:c4:60    -4\n",
      "329  1.618502e+09  b8:27:eb:6b:c4:60     0\n",
      "330  1.618502e+09  b8:27:eb:6b:c4:60    -8\n",
      "331  1.618502e+09  b8:27:eb:6b:c4:60     4\n",
      "332  1.618502e+09  b8:27:eb:6b:c4:60    -6\n",
      "333  1.618502e+09  b8:27:eb:6b:c4:60    -2\n",
      "1618501974.28\n",
      "1618501981.03\n",
      "4\n",
      "<class 'numpy.ndarray'>\n",
      "[ -6  -6 -83  -4  -6]\n",
      "         epoch_ts        mac_address  rssi\n",
      "432  1.618502e+09  b8:27:eb:6b:c4:60    -6\n",
      "433  1.618502e+09  b8:27:eb:6b:c4:60    -6\n",
      "434  1.618502e+09  b8:27:eb:6b:c4:60   -83\n",
      "435  1.618502e+09  b8:27:eb:6b:c4:60    -4\n",
      "436  1.618502e+09  b8:27:eb:6b:c4:60    -6\n",
      "1618502056.4\n",
      "1618502065.99\n",
      "5\n",
      "<class 'numpy.ndarray'>\n",
      "[-2  0 -2 -6]\n",
      "         epoch_ts        mac_address  rssi\n",
      "520  1.618502e+09  b8:27:eb:6b:c4:60    -2\n",
      "521  1.618502e+09  b8:27:eb:6b:c4:60     0\n",
      "522  1.618502e+09  b8:27:eb:6b:c4:60    -2\n",
      "523  1.618502e+09  b8:27:eb:6b:c4:60    -6\n",
      "1618502099.46\n",
      "1618502113.78\n",
      "10\n",
      "<class 'numpy.ndarray'>\n",
      "[ 0 -8 -2]\n",
      "         epoch_ts        mac_address  rssi\n",
      "640  1.618502e+09  b8:27:eb:6b:c4:60     0\n",
      "641  1.618502e+09  b8:27:eb:6b:c4:60    -8\n",
      "642  1.618502e+09  b8:27:eb:6b:c4:60    -2\n",
      "1618502182.09\n",
      "1618502186.98\n",
      "11\n",
      "<class 'numpy.ndarray'>\n",
      "[-31  -6  -8  -6  -6 -33   2   0]\n",
      "         epoch_ts        mac_address  rssi\n",
      "816  1.618502e+09  b8:27:eb:6b:c4:60   -31\n",
      "817  1.618502e+09  b8:27:eb:6b:c4:60    -6\n",
      "818  1.618502e+09  b8:27:eb:6b:c4:60    -8\n",
      "819  1.618502e+09  b8:27:eb:6b:c4:60    -6\n",
      "820  1.618502e+09  b8:27:eb:6b:c4:60    -6\n",
      "913  1.618502e+09  b8:27:eb:6b:c4:60   -33\n",
      "914  1.618502e+09  b8:27:eb:6b:c4:60     2\n",
      "915  1.618502e+09  b8:27:eb:6b:c4:60     0\n",
      "1618502256.88\n",
      "1618502265.0\n",
      "11\n",
      "<class 'numpy.ndarray'>\n",
      "[-6 -6  2 -4]\n",
      "          epoch_ts        mac_address  rssi\n",
      "1061  1.618502e+09  b8:27:eb:6b:c4:60    -6\n",
      "1062  1.618502e+09  b8:27:eb:6b:c4:60    -6\n",
      "1063  1.618502e+09  b8:27:eb:6b:c4:60     2\n",
      "1064  1.618502e+09  b8:27:eb:6b:c4:60    -4\n",
      "1618502368.63\n",
      "1618502379.06\n",
      "14\n",
      "<class 'numpy.ndarray'>\n",
      "[-47   2  -6  -2]\n",
      "          epoch_ts        mac_address  rssi\n",
      "1383  1.618502e+09  b8:27:eb:6b:c4:60   -47\n",
      "1385  1.618502e+09  b8:27:eb:6b:c4:60     2\n",
      "1386  1.618502e+09  b8:27:eb:6b:c4:60    -6\n",
      "1387  1.618502e+09  b8:27:eb:6b:c4:60    -2\n",
      "1618502491.21\n",
      "1618502514.31\n",
      "9\n",
      "<class 'numpy.ndarray'>\n",
      "[-37  -4   2  -4   2  -4]\n",
      "          epoch_ts        mac_address  rssi\n",
      "1746  1.618503e+09  b8:27:eb:6b:c4:60   -37\n",
      "1747  1.618503e+09  b8:27:eb:6b:c4:60    -4\n",
      "1748  1.618503e+09  b8:27:eb:6b:c4:60     2\n",
      "1886  1.618503e+09  b8:27:eb:6b:c4:60    -4\n",
      "1887  1.618503e+09  b8:27:eb:6b:c4:60     2\n",
      "1888  1.618503e+09  b8:27:eb:6b:c4:60    -4\n",
      "1618502635.9\n",
      "1618502659.23\n",
      "12\n",
      "<class 'numpy.ndarray'>\n",
      "[  4   2  -4  -6 -75 -29  -6]\n",
      "          epoch_ts        mac_address  rssi\n",
      "2167  1.618503e+09  b8:27:eb:6b:c4:60     4\n",
      "2168  1.618503e+09  b8:27:eb:6b:c4:60     2\n",
      "2169  1.618503e+09  b8:27:eb:6b:c4:60    -4\n",
      "2170  1.618503e+09  b8:27:eb:6b:c4:60    -6\n",
      "2362  1.618503e+09  b8:27:eb:6b:c4:60   -75\n",
      "2367  1.618503e+09  b8:27:eb:6b:c4:60   -29\n",
      "2369  1.618503e+09  b8:27:eb:6b:c4:60    -6\n",
      "1618502741.51\n",
      "1618502752.58\n",
      "13\n",
      "<class 'numpy.ndarray'>\n",
      "[-39  -4   2  -6]\n",
      "          epoch_ts        mac_address  rssi\n",
      "2507  1.618503e+09  b8:27:eb:6b:c4:60   -39\n",
      "2508  1.618503e+09  b8:27:eb:6b:c4:60    -4\n",
      "2509  1.618503e+09  b8:27:eb:6b:c4:60     2\n",
      "2510  1.618503e+09  b8:27:eb:6b:c4:60    -6\n",
      "1618502818.18\n",
      "1618502827.15\n",
      "12\n",
      "<class 'numpy.ndarray'>\n",
      "[ -2 -29  -6  -4  -4]\n",
      "          epoch_ts        mac_address  rssi\n",
      "2652  1.618503e+09  b8:27:eb:6b:c4:60    -2\n",
      "2774  1.618503e+09  b8:27:eb:6b:c4:60   -29\n",
      "2775  1.618503e+09  b8:27:eb:6b:c4:60    -6\n",
      "2776  1.618503e+09  b8:27:eb:6b:c4:60    -4\n",
      "2777  1.618503e+09  b8:27:eb:6b:c4:60    -4\n",
      "1618502917.65\n",
      "1618502925.72\n",
      "10\n",
      "<class 'numpy.ndarray'>\n",
      "[]\n",
      "Empty DataFrame\n",
      "Columns: [epoch_ts, mac_address, rssi]\n",
      "Index: []\n",
      "1618502970.97\n",
      "1618502980.14\n",
      "9\n",
      "<class 'numpy.ndarray'>\n",
      "[]\n",
      "Empty DataFrame\n",
      "Columns: [epoch_ts, mac_address, rssi]\n",
      "Index: []\n",
      "1618503019.84\n",
      "1618503025.03\n",
      "9\n",
      "<class 'numpy.ndarray'>\n",
      "[ -6  -6  -6  -6 -45 -31  -2  -4   0]\n",
      "          epoch_ts        mac_address  rssi\n",
      "2970  1.618503e+09  b8:27:eb:6b:c4:60    -6\n",
      "2971  1.618503e+09  b8:27:eb:6b:c4:60    -6\n",
      "2972  1.618503e+09  b8:27:eb:6b:c4:60    -6\n",
      "2973  1.618503e+09  b8:27:eb:6b:c4:60    -6\n",
      "3104  1.618503e+09  b8:27:eb:6b:c4:60   -45\n",
      "3105  1.618503e+09  b8:27:eb:6b:c4:60   -31\n",
      "3106  1.618503e+09  b8:27:eb:6b:c4:60    -2\n",
      "3107  1.618503e+09  b8:27:eb:6b:c4:60    -4\n",
      "3108  1.618503e+09  b8:27:eb:6b:c4:60     0\n",
      "1618503116.15\n",
      "1618503135.12\n",
      "8\n",
      "<class 'numpy.ndarray'>\n",
      "[2]\n",
      "          epoch_ts        mac_address  rssi\n",
      "3414  1.618503e+09  b8:27:eb:6b:c4:60     2\n",
      "1618503198.77\n",
      "1618503208.68\n",
      "10\n",
      "<class 'numpy.ndarray'>\n",
      "[-33  -6   0  -6 -21  -6  -4]\n",
      "          epoch_ts        mac_address  rssi\n",
      "3586  1.618503e+09  b8:27:eb:6b:c4:60   -33\n",
      "3587  1.618503e+09  b8:27:eb:6b:c4:60    -6\n",
      "3588  1.618503e+09  b8:27:eb:6b:c4:60     0\n",
      "3589  1.618503e+09  b8:27:eb:6b:c4:60    -6\n",
      "3590  1.618503e+09  b8:27:eb:6b:c4:60   -21\n",
      "3591  1.618503e+09  b8:27:eb:6b:c4:60    -6\n",
      "3592  1.618503e+09  b8:27:eb:6b:c4:60    -4\n",
      "1618503265.01\n",
      "1618503274.14\n",
      "11\n",
      "<class 'numpy.ndarray'>\n",
      "[ -6 -75  -2]\n",
      "          epoch_ts        mac_address  rssi\n",
      "3722  1.618503e+09  b8:27:eb:6b:c4:60    -6\n",
      "3723  1.618503e+09  b8:27:eb:6b:c4:60   -75\n",
      "3724  1.618503e+09  b8:27:eb:6b:c4:60    -2\n",
      "1618503305.29\n",
      "1618503313.49\n",
      "12\n",
      "<class 'numpy.ndarray'>\n",
      "[-39  -8 -10]\n",
      "          epoch_ts        mac_address  rssi\n",
      "3864  1.618503e+09  b8:27:eb:6b:c4:60   -39\n",
      "3865  1.618503e+09  b8:27:eb:6b:c4:60    -8\n",
      "3866  1.618503e+09  b8:27:eb:6b:c4:60   -10\n",
      "1618503386.05\n",
      "1618503467.15\n",
      "13\n",
      "<class 'numpy.ndarray'>\n",
      "[-37  -8  -8  -8  -8]\n",
      "          epoch_ts        mac_address  rssi\n",
      "4815  1.618504e+09  b8:27:eb:6b:c4:60   -37\n",
      "4817  1.618504e+09  b8:27:eb:6b:c4:60    -8\n",
      "4818  1.618504e+09  b8:27:eb:6b:c4:60    -8\n",
      "4820  1.618504e+09  b8:27:eb:6b:c4:60    -8\n",
      "4821  1.618504e+09  b8:27:eb:6b:c4:60    -8\n",
      "1618503516.28\n",
      "1618503535.75\n",
      "21\n",
      "<class 'numpy.ndarray'>\n",
      "[-31  -6  -6   0  -6 -35]\n",
      "          epoch_ts        mac_address  rssi\n",
      "5098  1.618504e+09  b8:27:eb:6b:c4:60   -31\n",
      "5100  1.618504e+09  b8:27:eb:6b:c4:60    -6\n",
      "5101  1.618504e+09  b8:27:eb:6b:c4:60    -6\n",
      "5102  1.618504e+09  b8:27:eb:6b:c4:60     0\n",
      "5103  1.618504e+09  b8:27:eb:6b:c4:60    -6\n",
      "5403  1.618504e+09  b8:27:eb:6b:c4:60   -35\n",
      "1618503642.34\n",
      "1618503660.02\n",
      "25\n",
      "<class 'numpy.ndarray'>\n",
      "[-33  -6  -6]\n",
      "          epoch_ts        mac_address  rssi\n",
      "5630  1.618504e+09  b8:27:eb:6b:c4:60   -33\n",
      "5635  1.618504e+09  b8:27:eb:6b:c4:60    -6\n",
      "5636  1.618504e+09  b8:27:eb:6b:c4:60    -6\n",
      "1618503750.67\n",
      "1618503786.57\n",
      "23\n",
      "<class 'numpy.ndarray'>\n",
      "[ -4   0 -75  -4  -6   0  -6]\n",
      "          epoch_ts        mac_address  rssi\n",
      "6101  1.618504e+09  b8:27:eb:6b:c4:60    -4\n",
      "6102  1.618504e+09  b8:27:eb:6b:c4:60     0\n",
      "6103  1.618504e+09  b8:27:eb:6b:c4:60   -75\n",
      "6335  1.618504e+09  b8:27:eb:6b:c4:60    -4\n",
      "6336  1.618504e+09  b8:27:eb:6b:c4:60    -6\n",
      "6338  1.618504e+09  b8:27:eb:6b:c4:60     0\n",
      "6340  1.618504e+09  b8:27:eb:6b:c4:60    -6\n",
      "1618503894.05\n",
      "1618503902.98\n",
      "22\n",
      "<class 'numpy.ndarray'>\n",
      "[-33  -6   0  -4]\n",
      "          epoch_ts        mac_address  rssi\n",
      "6620  1.618504e+09  b8:27:eb:6b:c4:60   -33\n",
      "6621  1.618504e+09  b8:27:eb:6b:c4:60    -6\n",
      "6622  1.618504e+09  b8:27:eb:6b:c4:60     0\n",
      "6624  1.618504e+09  b8:27:eb:6b:c4:60    -4\n",
      "1618503967.07\n",
      "1618503999.3\n",
      "32\n",
      "<class 'numpy.ndarray'>\n",
      "[-35  -6 -21   0]\n",
      "          epoch_ts        mac_address  rssi\n",
      "6976  1.618504e+09  b8:27:eb:6b:c4:60   -35\n",
      "6977  1.618504e+09  b8:27:eb:6b:c4:60    -6\n",
      "6978  1.618504e+09  b8:27:eb:6b:c4:60   -21\n",
      "6979  1.618504e+09  b8:27:eb:6b:c4:60     0\n",
      "1618504073.24\n",
      "1618504091.06\n",
      "29\n",
      "<class 'numpy.ndarray'>\n",
      "[-6 -6 -2 -2]\n",
      "          epoch_ts        mac_address  rssi\n",
      "7162  1.618504e+09  b8:27:eb:6b:c4:60    -6\n",
      "7163  1.618504e+09  b8:27:eb:6b:c4:60    -6\n",
      "7164  1.618504e+09  b8:27:eb:6b:c4:60    -2\n"
     ]
    },
    {
     "name": "stdout",
     "output_type": "stream",
     "text": [
      "7165  1.618504e+09  b8:27:eb:6b:c4:60    -2\n",
      "1618504137.96\n",
      "1618504148.88\n",
      "25\n",
      "<class 'numpy.ndarray'>\n",
      "[-33  -6   0   0  -6  -2]\n",
      "          epoch_ts        mac_address  rssi\n",
      "7302  1.618504e+09  b8:27:eb:6b:c4:60   -33\n",
      "7303  1.618504e+09  b8:27:eb:6b:c4:60    -6\n",
      "7305  1.618504e+09  b8:27:eb:6b:c4:60     0\n",
      "7306  1.618504e+09  b8:27:eb:6b:c4:60     0\n",
      "7307  1.618504e+09  b8:27:eb:6b:c4:60    -6\n",
      "7308  1.618504e+09  b8:27:eb:6b:c4:60    -2\n",
      "1618504211.13\n",
      "1618504268.49\n",
      "29\n",
      "<class 'numpy.ndarray'>\n",
      "[-6 -6  0 -6 -2]\n",
      "          epoch_ts        mac_address  rssi\n",
      "7626  1.618504e+09  b8:27:eb:6b:c4:60    -6\n",
      "7627  1.618504e+09  b8:27:eb:6b:c4:60    -6\n",
      "7629  1.618504e+09  b8:27:eb:6b:c4:60     0\n",
      "7630  1.618504e+09  b8:27:eb:6b:c4:60    -6\n",
      "7631  1.618504e+09  b8:27:eb:6b:c4:60    -2\n",
      "1618504347.21\n",
      "1618504360.98\n",
      "22\n",
      "<class 'numpy.ndarray'>\n",
      "[]\n",
      "Empty DataFrame\n",
      "Columns: [epoch_ts, mac_address, rssi]\n",
      "Index: []\n",
      "1618504409.55\n",
      "1618504421.69\n",
      "20\n",
      "<class 'numpy.ndarray'>\n",
      "[-35 -35 -71  -2 -59  -4]\n",
      "          epoch_ts        mac_address  rssi\n",
      "8062  1.618504e+09  b8:27:eb:6b:c4:60   -35\n",
      "8063  1.618504e+09  b8:27:eb:6b:c4:60   -35\n",
      "8064  1.618504e+09  b8:27:eb:6b:c4:60   -71\n",
      "8065  1.618504e+09  b8:27:eb:6b:c4:60    -2\n",
      "8066  1.618504e+09  b8:27:eb:6b:c4:60   -59\n",
      "8067  1.618504e+09  b8:27:eb:6b:c4:60    -4\n",
      "1618504519.34\n",
      "1618504534.79\n",
      "19\n",
      "<class 'numpy.ndarray'>\n",
      "[-6]\n",
      "          epoch_ts        mac_address  rssi\n",
      "8252  1.618505e+09  b8:27:eb:6b:c4:60    -6\n",
      "1618504584.87\n",
      "1618504600.84\n",
      "14\n",
      "<class 'numpy.ndarray'>\n",
      "[-77  -6  -4  -6  -4]\n",
      "          epoch_ts        mac_address  rssi\n",
      "8622  1.618505e+09  b8:27:eb:6b:c4:60   -77\n",
      "8625  1.618505e+09  b8:27:eb:6b:c4:60    -6\n",
      "8626  1.618505e+09  b8:27:eb:6b:c4:60    -4\n",
      "8627  1.618505e+09  b8:27:eb:6b:c4:60    -6\n",
      "8628  1.618505e+09  b8:27:eb:6b:c4:60    -4\n",
      "1618504665.01\n",
      "1618504676.51\n",
      "8\n",
      "<class 'numpy.ndarray'>\n",
      "[-31  -2  -7  -4  -2 -35  -6  -6  -2  -6  -6  -8]\n",
      "          epoch_ts        mac_address  rssi\n",
      "8848  1.618505e+09  b8:27:eb:6b:c4:60   -31\n",
      "8849  1.618505e+09  b8:27:eb:6b:c4:60    -2\n",
      "8850  1.618505e+09  b8:27:eb:6b:c4:60    -7\n",
      "8852  1.618505e+09  b8:27:eb:6b:c4:60    -4\n",
      "8855  1.618505e+09  b8:27:eb:6b:c4:60    -2\n",
      "8953  1.618505e+09  b8:27:eb:6b:c4:60   -35\n",
      "8954  1.618505e+09  b8:27:eb:6b:c4:60    -6\n",
      "8955  1.618505e+09  b8:27:eb:6b:c4:60    -6\n",
      "8956  1.618505e+09  b8:27:eb:6b:c4:60    -2\n",
      "8957  1.618505e+09  b8:27:eb:6b:c4:60    -6\n",
      "8958  1.618505e+09  b8:27:eb:6b:c4:60    -6\n",
      "8959  1.618505e+09  b8:27:eb:6b:c4:60    -8\n",
      "1618504784.17\n",
      "1618504794.04\n",
      "8\n",
      "<class 'numpy.ndarray'>\n",
      "[-33  -4  -8 -21  -4]\n",
      "          epoch_ts        mac_address  rssi\n",
      "9048  1.618505e+09  b8:27:eb:6b:c4:60   -33\n",
      "9049  1.618505e+09  b8:27:eb:6b:c4:60    -4\n",
      "9050  1.618505e+09  b8:27:eb:6b:c4:60    -8\n",
      "9051  1.618505e+09  b8:27:eb:6b:c4:60   -21\n",
      "9052  1.618505e+09  b8:27:eb:6b:c4:60    -4\n",
      "1618504859.66\n",
      "1618504867.29\n",
      "8\n",
      "<class 'numpy.ndarray'>\n",
      "[-6 -4 -2]\n",
      "          epoch_ts        mac_address  rssi\n",
      "9145  1.618505e+09  b8:27:eb:6b:c4:60    -6\n",
      "9146  1.618505e+09  b8:27:eb:6b:c4:60    -4\n",
      "9147  1.618505e+09  b8:27:eb:6b:c4:60    -2\n",
      "1618504924.42\n",
      "-11.62962962962963\n"
     ]
    }
   ],
   "source": [
    "\n",
    "s = 0\n",
    "cnt = 0\n",
    "for low, high, num in zip(enter_station, leave_station, pass_between_station):\n",
    "    print(float(low))\n",
    "    print(num)\n",
    "    \n",
    "    raspberry = reduced_data[(data[\"epoch_ts\"] > float(low)) & (data[\"epoch_ts\"] < float(high))]\n",
    "    raspberry = raspberry[raspberry[\"mac_address\"] == \"b8:27:eb:6b:c4:60\"]\n",
    "    rssi = raspberry[\"rssi\"].to_numpy()\n",
    "    print(type(rssi))\n",
    "    print(rssi)\n",
    "    s += sum(rssi)\n",
    "    cnt += len(rssi)\n",
    "    print(raspberry)\n",
    "    print(float(high))\n",
    "    \n",
    "#    b8:27:eb:6b:c4:60\n",
    "\n",
    "print(s/cnt)"
   ]
  },
  {
   "cell_type": "code",
   "execution_count": 5,
   "metadata": {},
   "outputs": [
    {
     "name": "stdout",
     "output_type": "stream",
     "text": [
      "1618501821.94\n",
      "3\n"
     ]
    },
    {
     "data": {
      "image/png": "[encoded data removed]",
      "text/plain": [
       "<Figure size 432x288 with 1 Axes>"
      ]
     },
     "metadata": {
      "needs_background": "light"
     },
     "output_type": "display_data"
    },
    {
     "name": "stdout",
     "output_type": "stream",
     "text": [
      "1618501919.07\n",
      "1618501928.07\n",
      "4\n"
     ]
    },
    {
     "data": {
      "image/png": "[encoded data removed]",
      "text/plain": [
       "<Figure size 432x288 with 1 Axes>"
      ]
     },
     "metadata": {
      "needs_background": "light"
     },
     "output_type": "display_data"
    },
    {
     "name": "stdout",
     "output_type": "stream",
     "text": [
      "1618501974.28\n",
      "1618501981.03\n",
      "4\n"
     ]
    },
    {
     "data": {
      "image/png": "[encoded data removed]",
      "text/plain": [
       "<Figure size 432x288 with 1 Axes>"
      ]
     },
     "metadata": {
      "needs_background": "light"
     },
     "output_type": "display_data"
    },
    {
     "name": "stdout",
     "output_type": "stream",
     "text": [
      "1618502056.4\n",
      "1618502065.99\n",
      "5\n"
     ]
    },
    {
     "data": {
      "image/png": "[encoded data removed]",
      "text/plain": [
       "<Figure size 432x288 with 1 Axes>"
      ]
     },
     "metadata": {
      "needs_background": "light"
     },
     "output_type": "display_data"
    },
    {
     "name": "stdout",
     "output_type": "stream",
     "text": [
      "1618502099.46\n",
      "1618502113.78\n",
      "10\n"
     ]
    },
    {
     "data": {
      "image/png": "[encoded data removed]",
      "text/plain": [
       "<Figure size 432x288 with 1 Axes>"
      ]
     },
     "metadata": {
      "needs_background": "light"
     },
     "output_type": "display_data"
    },
    {
     "name": "stdout",
     "output_type": "stream",
     "text": [
      "1618502182.09\n",
      "1618502186.98\n",
      "11\n"
     ]
    },
    {
     "data": {
      "image/png": "[encoded data removed]",
      "text/plain": [
       "<Figure size 432x288 with 1 Axes>"
      ]
     },
     "metadata": {
      "needs_background": "light"
     },
     "output_type": "display_data"
    },
    {
     "name": "stdout",
     "output_type": "stream",
     "text": [
      "1618502256.88\n",
      "1618502265.0\n",
      "11\n"
     ]
    },
    {
     "data": {
      "image/png": "[encoded data removed]",
      "text/plain": [
       "<Figure size 432x288 with 1 Axes>"
      ]
     },
     "metadata": {
      "needs_background": "light"
     },
     "output_type": "display_data"
    },
    {
     "name": "stdout",
     "output_type": "stream",
     "text": [
      "1618502368.63\n",
      "1618502379.06\n",
      "14\n"
     ]
    },
    {
     "data": {
      "image/png": "[encoded data removed]",
      "text/plain": [
       "<Figure size 432x288 with 1 Axes>"
      ]
     },
     "metadata": {
      "needs_background": "light"
     },
     "output_type": "display_data"
    },
    {
     "name": "stdout",
     "output_type": "stream",
     "text": [
      "1618502491.21\n",
      "1618502514.31\n",
      "9\n"
     ]
    },
    {
     "data": {
      "image/png": "[encoded data removed]",
      "text/plain": [
       "<Figure size 432x288 with 1 Axes>"
      ]
     },
     "metadata": {
      "needs_background": "light"
     },
     "output_type": "display_data"
    },
    {
     "name": "stdout",
     "output_type": "stream",
     "text": [
      "1618502635.9\n",
      "1618502659.23\n",
      "12\n"
     ]
    },
    {
     "data": {
      "image/png": "[encoded data removed]",
      "text/plain": [
       "<Figure size 432x288 with 1 Axes>"
      ]
     },
     "metadata": {
      "needs_background": "light"
     },
     "output_type": "display_data"
    },
    {
     "name": "stdout",
     "output_type": "stream",
     "text": [
      "1618502741.51\n",
      "1618502752.58\n",
      "13\n"
     ]
    },
    {
     "data": {
      "image/png": "[encoded data removed]",
      "text/plain": [
       "<Figure size 432x288 with 1 Axes>"
      ]
     },
     "metadata": {
      "needs_background": "light"
     },
     "output_type": "display_data"
    },
    {
     "name": "stdout",
     "output_type": "stream",
     "text": [
      "1618502818.18\n",
      "1618502827.15\n",
      "12\n"
     ]
    },
    {
     "data": {
      "image/png": "[encoded data removed]",
      "text/plain": [
       "<Figure size 432x288 with 1 Axes>"
      ]
     },
     "metadata": {
      "needs_background": "light"
     },
     "output_type": "display_data"
    },
    {
     "name": "stdout",
     "output_type": "stream",
     "text": [
      "1618502917.65\n",
      "1618502925.72\n",
      "10\n"
     ]
    },
    {
     "data": {
      "image/png": "[encoded data removed]",
      "text/plain": [
       "<Figure size 432x288 with 1 Axes>"
      ]
     },
     "metadata": {
      "needs_background": "light"
     },
     "output_type": "display_data"
    },
    {
     "name": "stdout",
     "output_type": "stream",
     "text": [
      "1618502970.97\n",
      "1618502980.14\n",
      "9\n"
     ]
    },
    {
     "data": {
      "image/png": "[encoded data removed]",
      "text/plain": [
       "<Figure size 432x288 with 1 Axes>"
      ]
     },
     "metadata": {
      "needs_background": "light"
     },
     "output_type": "display_data"
    },
    {
     "name": "stdout",
     "output_type": "stream",
     "text": [
      "1618503019.84\n",
      "1618503025.03\n",
      "9\n"
     ]
    },
    {
     "data": {
      "image/png": "[encoded data removed]",
      "text/plain": [
       "<Figure size 432x288 with 1 Axes>"
      ]
     },
     "metadata": {
      "needs_background": "light"
     },
     "output_type": "display_data"
    },
    {
     "name": "stdout",
     "output_type": "stream",
     "text": [
      "1618503116.15\n",
      "1618503135.12\n",
      "8\n"
     ]
    },
    {
     "data": {
      "image/png": "[encoded data removed]",
      "text/plain": [
       "<Figure size 432x288 with 1 Axes>"
      ]
     },
     "metadata": {
      "needs_background": "light"
     },
     "output_type": "display_data"
    },
    {
     "name": "stdout",
     "output_type": "stream",
     "text": [
      "1618503198.77\n",
      "1618503208.68\n",
      "10\n"
     ]
    },
    {
     "data": {
      "image/png": "[encoded data removed]",
      "text/plain": [
       "<Figure size 432x288 with 1 Axes>"
      ]
     },
     "metadata": {
      "needs_background": "light"
     },
     "output_type": "display_data"
    },
    {
     "name": "stdout",
     "output_type": "stream",
     "text": [
      "1618503265.01\n",
      "1618503274.14\n",
      "11\n"
     ]
    },
    {
     "data": {
      "image/png": "[encoded data removed]",
      "text/plain": [
       "<Figure size 432x288 with 1 Axes>"
      ]
     },
     "metadata": {
      "needs_background": "light"
     },
     "output_type": "display_data"
    },
    {
     "name": "stdout",
     "output_type": "stream",
     "text": [
      "1618503305.29\n",
      "1618503313.49\n",
      "12\n"
     ]
    },
    {
     "data": {
      "image/png": "[encoded data removed]",
      "text/plain": [
       "<Figure size 432x288 with 1 Axes>"
      ]
     },
     "metadata": {
      "needs_background": "light"
     },
     "output_type": "display_data"
    },
    {
     "name": "stdout",
     "output_type": "stream",
     "text": [
      "1618503386.05\n",
      "1618503467.15\n",
      "13\n"
     ]
    },
    {
     "data": {
      "image/png": "[encoded data removed]",
      "text/plain": [
       "<Figure size 432x288 with 1 Axes>"
      ]
     },
     "metadata": {
      "needs_background": "light"
     },
     "output_type": "display_data"
    },
    {
     "name": "stdout",
     "output_type": "stream",
     "text": [
      "1618503516.28\n",
      "1618503535.75\n",
      "21\n"
     ]
    },
    {
     "data": {
      "image/png": "[encoded data removed]",
      "text/plain": [
       "<Figure size 432x288 with 1 Axes>"
      ]
     },
     "metadata": {
      "needs_background": "light"
     },
     "output_type": "display_data"
    },
    {
     "name": "stdout",
     "output_type": "stream",
     "text": [
      "1618503642.34\n",
      "1618503660.02\n",
      "25\n"
     ]
    },
    {
     "data": {
      "image/png": "[encoded data removed]",
      "text/plain": [
       "<Figure size 432x288 with 1 Axes>"
      ]
     },
     "metadata": {
      "needs_background": "light"
     },
     "output_type": "display_data"
    },
    {
     "name": "stdout",
     "output_type": "stream",
     "text": [
      "1618503750.67\n",
      "1618503786.57\n",
      "23\n"
     ]
    },
    {
     "data": {
      "image/png": "[encoded data removed]",
      "text/plain": [
       "<Figure size 432x288 with 1 Axes>"
      ]
     },
     "metadata": {
      "needs_background": "light"
     },
     "output_type": "display_data"
    },
    {
     "name": "stdout",
     "output_type": "stream",
     "text": [
      "1618503894.05\n",
      "1618503902.98\n",
      "22\n"
     ]
    },
    {
     "data": {
      "image/png": "[encoded data removed]",
      "text/plain": [
       "<Figure size 432x288 with 1 Axes>"
      ]
     },
     "metadata": {
      "needs_background": "light"
     },
     "output_type": "display_data"
    },
    {
     "name": "stdout",
     "output_type": "stream",
     "text": [
      "1618503967.07\n",
      "1618503999.3\n",
      "32\n"
     ]
    },
    {
     "data": {
      "image/png": "[encoded data removed]",
      "text/plain": [
       "<Figure size 432x288 with 1 Axes>"
      ]
     },
     "metadata": {
      "needs_background": "light"
     },
     "output_type": "display_data"
    },
    {
     "name": "stdout",
     "output_type": "stream",
     "text": [
      "1618504073.24\n",
      "1618504091.06\n",
      "29\n"
     ]
    },
    {
     "data": {
      "image/png": "[encoded data removed]",
      "text/plain": [
       "<Figure size 432x288 with 1 Axes>"
      ]
     },
     "metadata": {
      "needs_background": "light"
     },
     "output_type": "display_data"
    },
    {
     "name": "stdout",
     "output_type": "stream",
     "text": [
      "1618504137.96\n",
      "1618504148.88\n",
      "25\n"
     ]
    },
    {
     "data": {
      "image/png": "[encoded data removed]",
      "text/plain": [
       "<Figure size 432x288 with 1 Axes>"
      ]
     },
     "metadata": {
      "needs_background": "light"
     },
     "output_type": "display_data"
    },
    {
     "name": "stdout",
     "output_type": "stream",
     "text": [
      "1618504211.13\n",
      "1618504268.49\n",
      "29\n"
     ]
    },
    {
     "data": {
      "image/png": "[encoded data removed]",
      "text/plain": [
       "<Figure size 432x288 with 1 Axes>"
      ]
     },
     "metadata": {
      "needs_background": "light"
     },
     "output_type": "display_data"
    },
    {
     "name": "stdout",
     "output_type": "stream",
     "text": [
      "1618504347.21\n",
      "1618504360.98\n",
      "22\n"
     ]
    },
    {
     "data": {
      "image/png": "[encoded data removed]",
      "text/plain": [
       "<Figure size 432x288 with 1 Axes>"
      ]
     },
     "metadata": {
      "needs_background": "light"
     },
     "output_type": "display_data"
    },
    {
     "name": "stdout",
     "output_type": "stream",
     "text": [
      "1618504409.55\n",
      "1618504421.69\n",
      "20\n"
     ]
    },
    {
     "data": {
      "image/png": "[encoded data removed]",
      "text/plain": [
       "<Figure size 432x288 with 1 Axes>"
      ]
     },
     "metadata": {
      "needs_background": "light"
     },
     "output_type": "display_data"
    },
    {
     "name": "stdout",
     "output_type": "stream",
     "text": [
      "1618504519.34\n",
      "1618504534.79\n",
      "19\n"
     ]
    },
    {
     "data": {
      "image/png": "[encoded data removed]",
      "text/plain": [
       "<Figure size 432x288 with 1 Axes>"
      ]
     },
     "metadata": {
      "needs_background": "light"
     },
     "output_type": "display_data"
    },
    {
     "name": "stdout",
     "output_type": "stream",
     "text": [
      "1618504584.87\n",
      "1618504600.84\n",
      "14\n"
     ]
    },
    {
     "data": {
      "image/png": "[encoded data removed]",
      "text/plain": [
       "<Figure size 432x288 with 1 Axes>"
      ]
     },
     "metadata": {
      "needs_background": "light"
     },
     "output_type": "display_data"
    },
    {
     "name": "stdout",
     "output_type": "stream",
     "text": [
      "1618504665.01\n",
      "1618504676.51\n",
      "8\n"
     ]
    },
    {
     "data": {
      "image/png": "[encoded data removed]",
      "text/plain": [
       "<Figure size 432x288 with 1 Axes>"
      ]
     },
     "metadata": {
      "needs_background": "light"
     },
     "output_type": "display_data"
    },
    {
     "name": "stdout",
     "output_type": "stream",
     "text": [
      "1618504784.17\n",
      "1618504794.04\n",
      "8\n"
     ]
    },
    {
     "data": {
      "image/png": "[encoded data removed]",
      "text/plain": [
       "<Figure size 432x288 with 1 Axes>"
      ]
     },
     "metadata": {
      "needs_background": "light"
     },
     "output_type": "display_data"
    },
    {
     "name": "stdout",
     "output_type": "stream",
     "text": [
      "1618504859.66\n",
      "1618504867.29\n",
      "8\n"
     ]
    },
    {
     "data": {
      "image/png": "[encoded data removed]",
      "text/plain": [
       "<Figure size 432x288 with 1 Axes>"
      ]
     },
     "metadata": {
      "needs_background": "light"
     },
     "output_type": "display_data"
    },
    {
     "name": "stdout",
     "output_type": "stream",
     "text": [
      "1618504924.42\n"
     ]
    }
   ],
   "source": [
    "rssi_raspberry = -23.182\n",
    "input_file = open(output_path + \"/in_\" + trip + \".txt\",\"w\")\n",
    "output_file = open(output_path + \"/out_\" + trip + \".txt\",\"w\")\n",
    "num_bins = 50\n",
    "N = 3\n",
    "for low, high, num in zip(enter_station, leave_station, pass_between_station):\n",
    "    print(float(low))\n",
    "    print(num)\n",
    "    stop_to_stop = reduced_data[(data[\"epoch_ts\"] > float(low)) & (data[\"epoch_ts\"] < float(high))]\n",
    "    \n",
    "#    plt.figure()\n",
    "#    plt.title(num)\n",
    "#    stop_to_stop[\"epoch_ts\"].hist(bins = num_bins)\n",
    "    \"\"\"\n",
    "    ax = plt.gca() # get axis handle\n",
    "    p = ax.patches\n",
    "    heights = [patch.get_height() for patch in p]    #print(p)\n",
    "    for i in range(len(heights) - 1):\n",
    "        input_file.write(str(heights[i]) + \",\")\n",
    "    input_file.write(str(heights[-1]) + \"\\n\")\n",
    "    output_file.write(str(num) + \"\\n\")\n",
    "    \"\"\"\n",
    "    radius_stop = stop_to_stop[(10**((rssi_raspberry - stop_to_stop[\"rssi\"].to_numpy()) / 10 / N)) < 30 ]\n",
    "    plt.figure()\n",
    "    plt.title(num)\n",
    "    radius_stop[\"rssi\"].hist(bins = num_bins)\n",
    "    ax = plt.gca() # get axis handle\n",
    "    p = ax.patches\n",
    "    heights = [patch.get_height() for patch in p]    #print(p)\n",
    "    for i in range(len(heights) - 1):\n",
    "        input_file.write(str(heights[i]) + \",\")\n",
    "    input_file.write(str(heights[-1]) + \"\\n\")\n",
    "    output_file.write(str(num) + \"\\n\")\n",
    "    plt.show()\n",
    "    \"\"\"\n",
    "    distance_raspberry = 10**((rssi_raspberry - stop_to_stop[\"rssi\"].to_numpy()) / 10 / N)\n",
    "    plt.title(num)\n",
    "    plt.hist(distance_raspberry, bins = num_bins)\n",
    "    plt.show()\n",
    "    \"\"\"\n",
    "#    plt.show()\n",
    "#    plt.figure()\n",
    "#    stop_to_stop[\"rssi\"].hist(bins = num_bins)\n",
    "#    plt.show()\n",
    "    print(float(high))\n",
    "    \n",
    "input_file.close()\n",
    "output_file.close()"
   ]
  },
  {
   "cell_type": "code",
   "execution_count": 45,
   "metadata": {},
   "outputs": [
    {
     "name": "stdout",
     "output_type": "stream",
     "text": [
      "3333\n"
     ]
    }
   ],
   "source": [
    "pass_data = pd.read_csv(path + trip + '/passenger_count_nums', sep=',', skiprows=[1])\n",
    "enter_station = pass_data[pass_data[\"Number_of_Passengers\"] == -10][\"Epoch_Time\"].to_numpy()\n",
    "leave_station = pass_data[pass_data[\"Number_of_Passengers\"] == -99][\"Epoch_Time\"].to_numpy()\n",
    "pass_between_station = pass_data[(pass_data[\"Number_of_Passengers\"] != -99) & (pass_data[\"Number_of_Passengers\"] != -10)][\"Number_of_Passengers\"].to_numpy()\n",
    "\n",
    "#print(len(enter_station), len(leave_station), len(pass_between_station))\n",
    "\n",
    "num_pass = []\n",
    "\n",
    "gps_data = pd.read_csv(path + trip + '/gps_data.csv', sep=',', skiprows = [1])\n",
    "for ep in gps_data['epoch_ts'].to_numpy():\n",
    "##    print(enter_station)\\n\",\n",
    "#    print(ep)\\n\",\n",
    "    for i in range(len(enter_station)):\n",
    "        if leave_station[i - 1] <= ep and ep <= enter_station[i]:\n",
    "            num_pass.append(pass_between_station[i - 1])\n",
    "        if enter_station[i] <= ep and ep <= leave_station[i]:\n",
    "            num_pass.append(pass_between_station[i])\n",
    "            break;\n",
    "print(len(num_pass))\n",
    "f_out = open(\"./out_\" + trip + \".txt\",\"w\")\n",
    "for i in range(len(num_pass)):\n",
    "    f_out.write(str(num_pass[i]) + \",\")\n",
    "f_out.close()\n",
    "    "
   ]
  }
 ],
 "metadata": {
  "kernelspec": {
   "display_name": "Python 3",
   "language": "python",
   "name": "python3"
  },
  "language_info": {
   "codemirror_mode": {
    "name": "ipython",
    "version": 3
   },
   "file_extension": ".py",
   "mimetype": "text/x-python",
   "name": "python",
   "nbconvert_exporter": "python",
   "pygments_lexer": "ipython3",
   "version": "3.7.3"
  }
 },
 "nbformat": 4,
 "nbformat_minor": 2
}
