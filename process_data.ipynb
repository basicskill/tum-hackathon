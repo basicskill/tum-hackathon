{
 "cells": [
  {
   "cell_type": "code",
   "execution_count": 1,
   "metadata": {},
   "outputs": [],
   "source": [
    "import numpy as np\n",
    "import pandas as pd\n",
    "import matplotlib.pyplot as plt\n",
    "import time\n",
    "path = \".././data_4_ScienceHack2021/\"\n",
    "output_path = \"./processed_data\"\n",
    "trip = 'trip_' + str(1)\n"
   ]
  },
  {
   "cell_type": "code",
   "execution_count": 2,
   "metadata": {},
   "outputs": [],
   "source": [
    "pass_data = pd.read_csv(path + trip + '/passenger_count_nums', sep=',', skiprows=[1])\n",
    "enter_station = pass_data[pass_data[\"Number_of_Passengers\"] == -10][\"Epoch_Time\"].to_numpy()\n",
    "leave_station = pass_data[pass_data[\"Number_of_Passengers\"] == -99][\"Epoch_Time\"].to_numpy()\n",
    "pass_between_station = pass_data[(pass_data[\"Number_of_Passengers\"] != -99) & (pass_data[\"Number_of_Passengers\"] != -10)][\"Number_of_Passengers\"].to_numpy()\n"
   ]
  },
  {
   "cell_type": "code",
   "execution_count": 3,
   "metadata": {
    "scrolled": false
   },
   "outputs": [],
   "source": [
    "data = pd.read_csv(path + trip + '/wifi_data.csv', sep=';')\n",
    "#data = data[(data[\"epoch_ts\"] > float(leave_station[0]))]\n",
    "reduced_data = data[['epoch_ts', 'mac_address', 'rssi']]\n",
    "#data"
   ]
  },
  {
   "cell_type": "code",
   "execution_count": 4,
   "metadata": {},
   "outputs": [
    {
     "name": "stdout",
     "output_type": "stream",
     "text": [
      "1618219347.84\n",
      "12\n",
      "<class 'numpy.ndarray'>\n",
      "[]\n",
      "Empty DataFrame\n",
      "Columns: [epoch_ts, mac_address, rssi]\n",
      "Index: []\n",
      "1618219367.0\n",
      "1618219383.0\n",
      "14\n",
      "<class 'numpy.ndarray'>\n",
      "[-43 -39 -39 -33  -7  -7  -7]\n",
      "         epoch_ts        mac_address  rssi\n",
      "124  1.618219e+09  b8:27:eb:6b:c4:60   -43\n",
      "125  1.618219e+09  b8:27:eb:6b:c4:60   -39\n",
      "126  1.618219e+09  b8:27:eb:6b:c4:60   -39\n",
      "127  1.618219e+09  b8:27:eb:6b:c4:60   -33\n",
      "130  1.618219e+09  b8:27:eb:6b:c4:60    -7\n",
      "131  1.618219e+09  b8:27:eb:6b:c4:60    -7\n",
      "132  1.618219e+09  b8:27:eb:6b:c4:60    -7\n",
      "1618219443.0\n",
      "1618219456.0\n",
      "18\n",
      "<class 'numpy.ndarray'>\n",
      "[-39 -41 -37 -35  -7  -7  -7 -81]\n",
      "         epoch_ts        mac_address  rssi\n",
      "266  1.618219e+09  b8:27:eb:6b:c4:60   -39\n",
      "267  1.618219e+09  b8:27:eb:6b:c4:60   -41\n",
      "269  1.618219e+09  b8:27:eb:6b:c4:60   -37\n",
      "270  1.618219e+09  b8:27:eb:6b:c4:60   -35\n",
      "271  1.618219e+09  b8:27:eb:6b:c4:60    -7\n",
      "272  1.618219e+09  b8:27:eb:6b:c4:60    -7\n",
      "273  1.618219e+09  b8:27:eb:6b:c4:60    -7\n",
      "274  1.618219e+09  b8:27:eb:6b:c4:60   -81\n",
      "1618219526.0\n",
      "1618219539.0\n",
      "17\n",
      "<class 'numpy.ndarray'>\n",
      "[-39 -31  -7  -7]\n",
      "         epoch_ts        mac_address  rssi\n",
      "386  1.618220e+09  b8:27:eb:6b:c4:60   -39\n",
      "387  1.618220e+09  b8:27:eb:6b:c4:60   -31\n",
      "389  1.618220e+09  b8:27:eb:6b:c4:60    -7\n",
      "390  1.618220e+09  b8:27:eb:6b:c4:60    -7\n",
      "1618219587.0\n",
      "1618219599.0\n",
      "10\n",
      "<class 'numpy.ndarray'>\n",
      "[-41 -43 -37 -39 -31  -7  -7  -7]\n",
      "         epoch_ts        mac_address  rssi\n",
      "555  1.618220e+09  b8:27:eb:6b:c4:60   -41\n",
      "556  1.618220e+09  b8:27:eb:6b:c4:60   -43\n",
      "557  1.618220e+09  b8:27:eb:6b:c4:60   -37\n",
      "558  1.618220e+09  b8:27:eb:6b:c4:60   -39\n",
      "560  1.618220e+09  b8:27:eb:6b:c4:60   -31\n",
      "561  1.618220e+09  b8:27:eb:6b:c4:60    -7\n",
      "562  1.618220e+09  b8:27:eb:6b:c4:60    -7\n",
      "564  1.618220e+09  b8:27:eb:6b:c4:60    -7\n",
      "1618219659.0\n",
      "1618219675.0\n",
      "11\n",
      "<class 'numpy.ndarray'>\n",
      "[]\n",
      "Empty DataFrame\n",
      "Columns: [epoch_ts, mac_address, rssi]\n",
      "Index: []\n",
      "1618219727.0\n",
      "1618219756.0\n",
      "7\n",
      "<class 'numpy.ndarray'>\n",
      "[-81 -41 -37 -31  -7  -7  -7]\n",
      "          epoch_ts        mac_address  rssi\n",
      "1101  1.618220e+09  b8:27:eb:6b:c4:60   -81\n",
      "1102  1.618220e+09  b8:27:eb:6b:c4:60   -41\n",
      "1103  1.618220e+09  b8:27:eb:6b:c4:60   -37\n",
      "1104  1.618220e+09  b8:27:eb:6b:c4:60   -31\n",
      "1106  1.618220e+09  b8:27:eb:6b:c4:60    -7\n",
      "1107  1.618220e+09  b8:27:eb:6b:c4:60    -7\n",
      "1108  1.618220e+09  b8:27:eb:6b:c4:60    -7\n",
      "1618219800.0\n",
      "1618219813.0\n",
      "8\n",
      "<class 'numpy.ndarray'>\n",
      "[-37 -33 -31  -7  -7  -7  -7  -7 -49 -31  -7  -7  -7]\n",
      "          epoch_ts        mac_address  rssi\n",
      "1258  1.618220e+09  b8:27:eb:6b:c4:60   -37\n",
      "1259  1.618220e+09  b8:27:eb:6b:c4:60   -33\n",
      "1260  1.618220e+09  b8:27:eb:6b:c4:60   -31\n",
      "1261  1.618220e+09  b8:27:eb:6b:c4:60    -7\n",
      "1263  1.618220e+09  b8:27:eb:6b:c4:60    -7\n",
      "1264  1.618220e+09  b8:27:eb:6b:c4:60    -7\n",
      "1265  1.618220e+09  b8:27:eb:6b:c4:60    -7\n",
      "1266  1.618220e+09  b8:27:eb:6b:c4:60    -7\n",
      "1349  1.618220e+09  b8:27:eb:6b:c4:60   -49\n",
      "1350  1.618220e+09  b8:27:eb:6b:c4:60   -31\n",
      "1351  1.618220e+09  b8:27:eb:6b:c4:60    -7\n",
      "1352  1.618220e+09  b8:27:eb:6b:c4:60    -7\n",
      "1353  1.618220e+09  b8:27:eb:6b:c4:60    -7\n",
      "1618219938.0\n",
      "1618219959.0\n",
      "10\n",
      "<class 'numpy.ndarray'>\n",
      "[-33  -7  -7  -7  -7 -39]\n",
      "          epoch_ts        mac_address  rssi\n",
      "1456  1.618220e+09  b8:27:eb:6b:c4:60   -33\n",
      "1457  1.618220e+09  b8:27:eb:6b:c4:60    -7\n",
      "1458  1.618220e+09  b8:27:eb:6b:c4:60    -7\n",
      "1459  1.618220e+09  b8:27:eb:6b:c4:60    -7\n",
      "1460  1.618220e+09  b8:27:eb:6b:c4:60    -7\n",
      "1572  1.618220e+09  b8:27:eb:6b:c4:60   -39\n",
      "1618220033.0\n",
      "1618220056.0\n",
      "15\n",
      "<class 'numpy.ndarray'>\n",
      "[-41 -43 -35 -37 -35 -31 -31  -7  -7  -7]\n",
      "          epoch_ts        mac_address  rssi\n",
      "1837  1.618220e+09  b8:27:eb:6b:c4:60   -41\n",
      "1838  1.618220e+09  b8:27:eb:6b:c4:60   -43\n",
      "1839  1.618220e+09  b8:27:eb:6b:c4:60   -35\n",
      "1840  1.618220e+09  b8:27:eb:6b:c4:60   -37\n",
      "1841  1.618220e+09  b8:27:eb:6b:c4:60   -35\n",
      "1842  1.618220e+09  b8:27:eb:6b:c4:60   -31\n",
      "1843  1.618220e+09  b8:27:eb:6b:c4:60   -31\n",
      "1845  1.618220e+09  b8:27:eb:6b:c4:60    -7\n",
      "1846  1.618220e+09  b8:27:eb:6b:c4:60    -7\n",
      "1853  1.618220e+09  b8:27:eb:6b:c4:60    -7\n",
      "1618220134.0\n",
      "1618220146.0\n",
      "13\n",
      "<class 'numpy.ndarray'>\n",
      "[-43 -43 -39 -41 -33 -31  -7  -7  -7]\n",
      "          epoch_ts        mac_address  rssi\n",
      "2190  1.618220e+09  b8:27:eb:6b:c4:60   -43\n",
      "2191  1.618220e+09  b8:27:eb:6b:c4:60   -43\n",
      "2192  1.618220e+09  b8:27:eb:6b:c4:60   -39\n",
      "2193  1.618220e+09  b8:27:eb:6b:c4:60   -41\n",
      "2194  1.618220e+09  b8:27:eb:6b:c4:60   -33\n",
      "2195  1.618220e+09  b8:27:eb:6b:c4:60   -31\n",
      "2196  1.618220e+09  b8:27:eb:6b:c4:60    -7\n",
      "2198  1.618220e+09  b8:27:eb:6b:c4:60    -7\n",
      "2199  1.618220e+09  b8:27:eb:6b:c4:60    -7\n",
      "1618220193.0\n",
      "1618220206.0\n",
      "12\n",
      "<class 'numpy.ndarray'>\n",
      "[-41 -37 -39 -37  -7  -7  -7 -41 -43  -7  -7  -7]\n",
      "          epoch_ts        mac_address  rssi\n",
      "2403  1.618220e+09  b8:27:eb:6b:c4:60   -41\n",
      "2404  1.618220e+09  b8:27:eb:6b:c4:60   -37\n",
      "2405  1.618220e+09  b8:27:eb:6b:c4:60   -39\n",
      "2406  1.618220e+09  b8:27:eb:6b:c4:60   -37\n",
      "2407  1.618220e+09  b8:27:eb:6b:c4:60    -7\n",
      "2408  1.618220e+09  b8:27:eb:6b:c4:60    -7\n",
      "2409  1.618220e+09  b8:27:eb:6b:c4:60    -7\n",
      "2569  1.618220e+09  b8:27:eb:6b:c4:60   -41\n",
      "2570  1.618220e+09  b8:27:eb:6b:c4:60   -43\n",
      "2571  1.618220e+09  b8:27:eb:6b:c4:60    -7\n",
      "2574  1.618220e+09  b8:27:eb:6b:c4:60    -7\n",
      "2575  1.618220e+09  b8:27:eb:6b:c4:60    -7\n",
      "1618220296.0\n",
      "1618220311.0\n",
      "12\n",
      "<class 'numpy.ndarray'>\n",
      "[-41  -7  -7  -7  -7  -7]\n",
      "          epoch_ts        mac_address  rssi\n",
      "2698  1.618220e+09  b8:27:eb:6b:c4:60   -41\n",
      "2700  1.618220e+09  b8:27:eb:6b:c4:60    -7\n",
      "2701  1.618220e+09  b8:27:eb:6b:c4:60    -7\n",
      "2702  1.618220e+09  b8:27:eb:6b:c4:60    -7\n",
      "2703  1.618220e+09  b8:27:eb:6b:c4:60    -7\n",
      "2704  1.618220e+09  b8:27:eb:6b:c4:60    -7\n",
      "1618220388.0\n",
      "1618220402.0\n",
      "16\n",
      "<class 'numpy.ndarray'>\n",
      "[-43 -43 -41 -39 -37 -33  -7  -7  -7  -7]\n",
      "          epoch_ts        mac_address  rssi\n",
      "3080  1.618220e+09  b8:27:eb:6b:c4:60   -43\n",
      "3081  1.618220e+09  b8:27:eb:6b:c4:60   -43\n",
      "3082  1.618220e+09  b8:27:eb:6b:c4:60   -41\n",
      "3083  1.618220e+09  b8:27:eb:6b:c4:60   -39\n",
      "3084  1.618220e+09  b8:27:eb:6b:c4:60   -37\n",
      "3085  1.618220e+09  b8:27:eb:6b:c4:60   -33\n",
      "3086  1.618220e+09  b8:27:eb:6b:c4:60    -7\n",
      "3087  1.618220e+09  b8:27:eb:6b:c4:60    -7\n",
      "3088  1.618220e+09  b8:27:eb:6b:c4:60    -7\n",
      "3089  1.618220e+09  b8:27:eb:6b:c4:60    -7\n",
      "1618220464.0\n",
      "1618220478.0\n",
      "18\n",
      "<class 'numpy.ndarray'>\n",
      "[-43 -43 -33  -7  -7  -7]\n",
      "          epoch_ts        mac_address  rssi\n",
      "3334  1.618221e+09  b8:27:eb:6b:c4:60   -43\n",
      "3336  1.618221e+09  b8:27:eb:6b:c4:60   -43\n",
      "3337  1.618221e+09  b8:27:eb:6b:c4:60   -33\n",
      "3340  1.618221e+09  b8:27:eb:6b:c4:60    -7\n",
      "3343  1.618221e+09  b8:27:eb:6b:c4:60    -7\n",
      "3344  1.618221e+09  b8:27:eb:6b:c4:60    -7\n",
      "1618220533.0\n",
      "1618220551.0\n",
      "10\n",
      "<class 'numpy.ndarray'>\n",
      "[-43 -43 -39 -33  -7  -7  -7  -7 -41 -39  -7]\n",
      "          epoch_ts        mac_address  rssi\n",
      "3614  1.618221e+09  b8:27:eb:6b:c4:60   -43\n",
      "3615  1.618221e+09  b8:27:eb:6b:c4:60   -43\n",
      "3616  1.618221e+09  b8:27:eb:6b:c4:60   -39\n",
      "3617  1.618221e+09  b8:27:eb:6b:c4:60   -33\n",
      "3618  1.618221e+09  b8:27:eb:6b:c4:60    -7\n",
      "3619  1.618221e+09  b8:27:eb:6b:c4:60    -7\n",
      "3622  1.618221e+09  b8:27:eb:6b:c4:60    -7\n",
      "3629  1.618221e+09  b8:27:eb:6b:c4:60    -7\n",
      "3946  1.618221e+09  b8:27:eb:6b:c4:60   -41\n",
      "3947  1.618221e+09  b8:27:eb:6b:c4:60   -39\n",
      "3949  1.618221e+09  b8:27:eb:6b:c4:60    -7\n",
      "1618220675.0\n",
      "1618220687.0\n",
      "13\n",
      "<class 'numpy.ndarray'>\n",
      "[ -7  -7 -51 -49 -49  -9  -7  -7  -9]\n",
      "          epoch_ts        mac_address  rssi\n",
      "4144  1.618221e+09  b8:27:eb:6b:c4:60    -7\n",
      "4147  1.618221e+09  b8:27:eb:6b:c4:60    -7\n",
      "4284  1.618221e+09  b8:27:eb:6b:c4:60   -51\n",
      "4285  1.618221e+09  b8:27:eb:6b:c4:60   -49\n",
      "4286  1.618221e+09  b8:27:eb:6b:c4:60   -49\n",
      "4287  1.618221e+09  b8:27:eb:6b:c4:60    -9\n",
      "4288  1.618221e+09  b8:27:eb:6b:c4:60    -7\n",
      "4289  1.618221e+09  b8:27:eb:6b:c4:60    -7\n",
      "4290  1.618221e+09  b8:27:eb:6b:c4:60    -9\n",
      "1618220797.0\n",
      "1618220808.0\n",
      "12\n",
      "<class 'numpy.ndarray'>\n",
      "[-41  -7  -7  -7  -9  -9 -45 -39  -7  -9  -7  -7 -31 -11  -9  -9 -17]\n",
      "          epoch_ts        mac_address  rssi\n",
      "4358  1.618221e+09  b8:27:eb:6b:c4:60   -41\n",
      "4361  1.618221e+09  b8:27:eb:6b:c4:60    -7\n",
      "4362  1.618221e+09  b8:27:eb:6b:c4:60    -7\n",
      "4363  1.618221e+09  b8:27:eb:6b:c4:60    -7\n",
      "4364  1.618221e+09  b8:27:eb:6b:c4:60    -9\n",
      "4365  1.618221e+09  b8:27:eb:6b:c4:60    -9\n",
      "4409  1.618221e+09  b8:27:eb:6b:c4:60   -45\n",
      "4410  1.618221e+09  b8:27:eb:6b:c4:60   -39\n",
      "4411  1.618221e+09  b8:27:eb:6b:c4:60    -7\n",
      "4412  1.618221e+09  b8:27:eb:6b:c4:60    -9\n",
      "4413  1.618221e+09  b8:27:eb:6b:c4:60    -7\n",
      "4414  1.618221e+09  b8:27:eb:6b:c4:60    -7\n",
      "4528  1.618221e+09  b8:27:eb:6b:c4:60   -31\n",
      "4529  1.618221e+09  b8:27:eb:6b:c4:60   -11\n",
      "4530  1.618221e+09  b8:27:eb:6b:c4:60    -9\n",
      "4531  1.618221e+09  b8:27:eb:6b:c4:60    -9\n",
      "4532  1.618221e+09  b8:27:eb:6b:c4:60   -17\n",
      "1618220955.0\n",
      "1618220971.0\n",
      "12\n",
      "<class 'numpy.ndarray'>\n",
      "[-45 -47 -41  -7  -9  -7  -7  -9]\n",
      "          epoch_ts        mac_address  rssi\n",
      "4728  1.618221e+09  b8:27:eb:6b:c4:60   -45\n",
      "4729  1.618221e+09  b8:27:eb:6b:c4:60   -47\n",
      "4730  1.618221e+09  b8:27:eb:6b:c4:60   -41\n",
      "4731  1.618221e+09  b8:27:eb:6b:c4:60    -7\n",
      "4732  1.618221e+09  b8:27:eb:6b:c4:60    -9\n",
      "4733  1.618221e+09  b8:27:eb:6b:c4:60    -7\n",
      "4734  1.618221e+09  b8:27:eb:6b:c4:60    -7\n",
      "4735  1.618221e+09  b8:27:eb:6b:c4:60    -9\n",
      "1618221034.0\n",
      "1618221091.0\n",
      "14\n",
      "<class 'numpy.ndarray'>\n",
      "[-45 -41 -33  -9  -9  -9 -15 -47  -7  -9  -7  -7]\n",
      "          epoch_ts        mac_address  rssi\n",
      "5100  1.618221e+09  b8:27:eb:6b:c4:60   -45\n",
      "5101  1.618221e+09  b8:27:eb:6b:c4:60   -41\n",
      "5102  1.618221e+09  b8:27:eb:6b:c4:60   -33\n",
      "5103  1.618221e+09  b8:27:eb:6b:c4:60    -9\n",
      "5104  1.618221e+09  b8:27:eb:6b:c4:60    -9\n",
      "5105  1.618221e+09  b8:27:eb:6b:c4:60    -9\n",
      "5106  1.618221e+09  b8:27:eb:6b:c4:60   -15\n",
      "5304  1.618221e+09  b8:27:eb:6b:c4:60   -47\n",
      "5306  1.618221e+09  b8:27:eb:6b:c4:60    -7\n",
      "5307  1.618221e+09  b8:27:eb:6b:c4:60    -9\n",
      "5309  1.618221e+09  b8:27:eb:6b:c4:60    -7\n",
      "5310  1.618221e+09  b8:27:eb:6b:c4:60    -7\n",
      "1618221172.0\n",
      "1618221185.0\n",
      "18\n",
      "<class 'numpy.ndarray'>\n",
      "[-49 -41  -9  -7  -7 -13]\n",
      "          epoch_ts        mac_address  rssi\n",
      "5544  1.618221e+09  b8:27:eb:6b:c4:60   -49\n",
      "5545  1.618221e+09  b8:27:eb:6b:c4:60   -41\n",
      "5547  1.618221e+09  b8:27:eb:6b:c4:60    -9\n",
      "5548  1.618221e+09  b8:27:eb:6b:c4:60    -7\n",
      "5549  1.618221e+09  b8:27:eb:6b:c4:60    -7\n",
      "5550  1.618221e+09  b8:27:eb:6b:c4:60   -13\n",
      "1618221252.0\n",
      "1618221267.0\n",
      "16\n",
      "<class 'numpy.ndarray'>\n",
      "[-47  -7  -7 -11 -39 -33  -7  -7]\n",
      "          epoch_ts        mac_address  rssi\n",
      "5738  1.618221e+09  b8:27:eb:6b:c4:60   -47\n",
      "5739  1.618221e+09  b8:27:eb:6b:c4:60    -7\n",
      "5740  1.618221e+09  b8:27:eb:6b:c4:60    -7\n",
      "5741  1.618221e+09  b8:27:eb:6b:c4:60   -11\n",
      "5895  1.618221e+09  b8:27:eb:6b:c4:60   -39\n",
      "5899  1.618221e+09  b8:27:eb:6b:c4:60   -33\n",
      "5900  1.618221e+09  b8:27:eb:6b:c4:60    -7\n",
      "5901  1.618221e+09  b8:27:eb:6b:c4:60    -7\n",
      "1618221366.0\n",
      "1618221381.0\n",
      "13\n",
      "<class 'numpy.ndarray'>\n",
      "[-47 -43 -39 -33  -7 -13 -41 -33 -35  -9  -9  -7  -7 -13 -47  -7  -7  -7\n",
      " -47 -41  -7  -7  -7 -49  -7  -7]\n",
      "          epoch_ts        mac_address  rssi\n",
      "6181  1.618221e+09  b8:27:eb:6b:c4:60   -47\n",
      "6182  1.618221e+09  b8:27:eb:6b:c4:60   -43\n",
      "6183  1.618221e+09  b8:27:eb:6b:c4:60   -39\n",
      "6185  1.618221e+09  b8:27:eb:6b:c4:60   -33\n",
      "6186  1.618221e+09  b8:27:eb:6b:c4:60    -7\n",
      "6189  1.618221e+09  b8:27:eb:6b:c4:60   -13\n",
      "6478  1.618221e+09  b8:27:eb:6b:c4:60   -41\n",
      "6480  1.618221e+09  b8:27:eb:6b:c4:60   -33\n",
      "6481  1.618221e+09  b8:27:eb:6b:c4:60   -35\n",
      "6482  1.618221e+09  b8:27:eb:6b:c4:60    -9\n",
      "6483  1.618221e+09  b8:27:eb:6b:c4:60    -9\n",
      "6484  1.618221e+09  b8:27:eb:6b:c4:60    -7\n",
      "6485  1.618221e+09  b8:27:eb:6b:c4:60    -7\n",
      "6486  1.618221e+09  b8:27:eb:6b:c4:60   -13\n",
      "6692  1.618222e+09  b8:27:eb:6b:c4:60   -47\n",
      "6697  1.618222e+09  b8:27:eb:6b:c4:60    -7\n",
      "6698  1.618222e+09  b8:27:eb:6b:c4:60    -7\n",
      "6699  1.618222e+09  b8:27:eb:6b:c4:60    -7\n",
      "6839  1.618222e+09  b8:27:eb:6b:c4:60   -47\n",
      "6840  1.618222e+09  b8:27:eb:6b:c4:60   -41\n",
      "6841  1.618222e+09  b8:27:eb:6b:c4:60    -7\n",
      "6842  1.618222e+09  b8:27:eb:6b:c4:60    -7\n",
      "6843  1.618222e+09  b8:27:eb:6b:c4:60    -7\n",
      "6844  1.618222e+09  b8:27:eb:6b:c4:60   -49\n",
      "6845  1.618222e+09  b8:27:eb:6b:c4:60    -7\n",
      "6846  1.618222e+09  b8:27:eb:6b:c4:60    -7\n",
      "1618221625.0\n",
      "1618221634.0\n",
      "9\n",
      "<class 'numpy.ndarray'>\n",
      "[-45 -43 -33  -7  -7  -7  -9  -9 -47 -45 -43  -7  -7  -9  -9]\n",
      "          epoch_ts        mac_address  rssi\n",
      "6962  1.618222e+09  b8:27:eb:6b:c4:60   -45\n",
      "6963  1.618222e+09  b8:27:eb:6b:c4:60   -43\n",
      "6964  1.618222e+09  b8:27:eb:6b:c4:60   -33\n",
      "6965  1.618222e+09  b8:27:eb:6b:c4:60    -7\n",
      "6966  1.618222e+09  b8:27:eb:6b:c4:60    -7\n",
      "6967  1.618222e+09  b8:27:eb:6b:c4:60    -7\n",
      "6968  1.618222e+09  b8:27:eb:6b:c4:60    -9\n",
      "6969  1.618222e+09  b8:27:eb:6b:c4:60    -9\n",
      "7153  1.618222e+09  b8:27:eb:6b:c4:60   -47\n",
      "7154  1.618222e+09  b8:27:eb:6b:c4:60   -45\n",
      "7155  1.618222e+09  b8:27:eb:6b:c4:60   -43\n",
      "7160  1.618222e+09  b8:27:eb:6b:c4:60    -7\n",
      "7161  1.618222e+09  b8:27:eb:6b:c4:60    -7\n",
      "7162  1.618222e+09  b8:27:eb:6b:c4:60    -9\n",
      "7163  1.618222e+09  b8:27:eb:6b:c4:60    -9\n",
      "1618221722.0\n",
      "1618221734.0\n",
      "17\n",
      "<class 'numpy.ndarray'>\n",
      "[-57  -9 -83  -9]\n",
      "          epoch_ts        mac_address  rssi\n",
      "7531  1.618222e+09  b8:27:eb:6b:c4:60   -57\n",
      "7532  1.618222e+09  b8:27:eb:6b:c4:60    -9\n",
      "7533  1.618222e+09  b8:27:eb:6b:c4:60   -83\n",
      "7534  1.618222e+09  b8:27:eb:6b:c4:60    -9\n",
      "1618221815.0\n",
      "1618221830.0\n",
      "14\n",
      "<class 'numpy.ndarray'>\n",
      "[-47  -7  -9  -7  -7 -43 -39 -33  -7  -7]\n",
      "          epoch_ts        mac_address  rssi\n",
      "7793  1.618222e+09  b8:27:eb:6b:c4:60   -47\n",
      "7795  1.618222e+09  b8:27:eb:6b:c4:60    -7\n",
      "7796  1.618222e+09  b8:27:eb:6b:c4:60    -9\n",
      "7797  1.618222e+09  b8:27:eb:6b:c4:60    -7\n",
      "7798  1.618222e+09  b8:27:eb:6b:c4:60    -7\n",
      "7960  1.618222e+09  b8:27:eb:6b:c4:60   -43\n",
      "7961  1.618222e+09  b8:27:eb:6b:c4:60   -39\n",
      "7962  1.618222e+09  b8:27:eb:6b:c4:60   -33\n",
      "7963  1.618222e+09  b8:27:eb:6b:c4:60    -7\n",
      "7964  1.618222e+09  b8:27:eb:6b:c4:60    -7\n",
      "1618221988.0\n",
      "1618221999.0\n",
      "15\n",
      "<class 'numpy.ndarray'>\n",
      "[-47 -41 -41 -41 -31 -33 -31  -7  -7 -77 -45 -45 -39 -39 -37  -7  -7  -7\n",
      "  -9  -9 -43 -43 -35  -7  -7 -57  -9]\n",
      "          epoch_ts        mac_address  rssi\n",
      "8187  1.618222e+09  b8:27:eb:6b:c4:60   -47\n",
      "8188  1.618222e+09  b8:27:eb:6b:c4:60   -41\n",
      "8189  1.618222e+09  b8:27:eb:6b:c4:60   -41\n",
      "8190  1.618222e+09  b8:27:eb:6b:c4:60   -41\n",
      "8191  1.618222e+09  b8:27:eb:6b:c4:60   -31\n",
      "8192  1.618222e+09  b8:27:eb:6b:c4:60   -33\n",
      "8193  1.618222e+09  b8:27:eb:6b:c4:60   -31\n",
      "8194  1.618222e+09  b8:27:eb:6b:c4:60    -7\n",
      "8195  1.618222e+09  b8:27:eb:6b:c4:60    -7\n",
      "8196  1.618222e+09  b8:27:eb:6b:c4:60   -77\n",
      "8261  1.618222e+09  b8:27:eb:6b:c4:60   -45\n",
      "8262  1.618222e+09  b8:27:eb:6b:c4:60   -45\n",
      "8263  1.618222e+09  b8:27:eb:6b:c4:60   -39\n",
      "8264  1.618222e+09  b8:27:eb:6b:c4:60   -39\n",
      "8265  1.618222e+09  b8:27:eb:6b:c4:60   -37\n",
      "8267  1.618222e+09  b8:27:eb:6b:c4:60    -7\n",
      "8268  1.618222e+09  b8:27:eb:6b:c4:60    -7\n",
      "8269  1.618222e+09  b8:27:eb:6b:c4:60    -7\n",
      "8270  1.618222e+09  b8:27:eb:6b:c4:60    -9\n",
      "8271  1.618222e+09  b8:27:eb:6b:c4:60    -9\n",
      "8422  1.618222e+09  b8:27:eb:6b:c4:60   -43\n",
      "8423  1.618222e+09  b8:27:eb:6b:c4:60   -43\n",
      "8424  1.618222e+09  b8:27:eb:6b:c4:60   -35\n",
      "8425  1.618222e+09  b8:27:eb:6b:c4:60    -7\n",
      "8426  1.618222e+09  b8:27:eb:6b:c4:60    -7\n",
      "8427  1.618222e+09  b8:27:eb:6b:c4:60   -57\n",
      "8428  1.618222e+09  b8:27:eb:6b:c4:60    -9\n",
      "1618222143.0\n",
      "1618222170.0\n",
      "16\n",
      "<class 'numpy.ndarray'>\n",
      "[-43 -39 -31  -7  -7  -7  -7  -9]\n",
      "          epoch_ts        mac_address  rssi\n",
      "8564  1.618222e+09  b8:27:eb:6b:c4:60   -43\n",
      "8565  1.618222e+09  b8:27:eb:6b:c4:60   -39\n",
      "8566  1.618222e+09  b8:27:eb:6b:c4:60   -31\n",
      "8567  1.618222e+09  b8:27:eb:6b:c4:60    -7\n",
      "8568  1.618222e+09  b8:27:eb:6b:c4:60    -7\n",
      "8569  1.618222e+09  b8:27:eb:6b:c4:60    -7\n",
      "8570  1.618222e+09  b8:27:eb:6b:c4:60    -7\n",
      "8571  1.618222e+09  b8:27:eb:6b:c4:60    -9\n",
      "1618222236.0\n",
      "1618222243.0\n",
      "14\n",
      "<class 'numpy.ndarray'>\n",
      "[-43 -43 -33 -35  -7  -7  -7  -7  -9]\n",
      "          epoch_ts        mac_address  rssi\n",
      "8628  1.618222e+09  b8:27:eb:6b:c4:60   -43\n",
      "8629  1.618222e+09  b8:27:eb:6b:c4:60   -43\n",
      "8630  1.618222e+09  b8:27:eb:6b:c4:60   -33\n",
      "8631  1.618222e+09  b8:27:eb:6b:c4:60   -35\n",
      "8632  1.618222e+09  b8:27:eb:6b:c4:60    -7\n",
      "8633  1.618222e+09  b8:27:eb:6b:c4:60    -7\n",
      "8634  1.618222e+09  b8:27:eb:6b:c4:60    -7\n",
      "8635  1.618222e+09  b8:27:eb:6b:c4:60    -7\n"
     ]
    },
    {
     "name": "stdout",
     "output_type": "stream",
     "text": [
      "8636  1.618222e+09  b8:27:eb:6b:c4:60    -9\n",
      "1618222287.0\n",
      "1618222301.0\n",
      "15\n",
      "<class 'numpy.ndarray'>\n",
      "[-43 -43 -41 -35  -9  -7  -9 -11]\n",
      "          epoch_ts        mac_address  rssi\n",
      "8678  1.618222e+09  b8:27:eb:6b:c4:60   -43\n",
      "8679  1.618222e+09  b8:27:eb:6b:c4:60   -43\n",
      "8680  1.618222e+09  b8:27:eb:6b:c4:60   -41\n",
      "8681  1.618222e+09  b8:27:eb:6b:c4:60   -35\n",
      "8682  1.618222e+09  b8:27:eb:6b:c4:60    -9\n",
      "8683  1.618222e+09  b8:27:eb:6b:c4:60    -7\n",
      "8684  1.618222e+09  b8:27:eb:6b:c4:60    -9\n",
      "8685  1.618222e+09  b8:27:eb:6b:c4:60   -11\n",
      "1618222360.0\n",
      "1618222371.0\n",
      "13\n",
      "<class 'numpy.ndarray'>\n",
      "[-45 -33 -33  -7  -7  -7 -43 -39 -39 -35  -7  -7  -9  -9]\n",
      "          epoch_ts        mac_address  rssi\n",
      "8858  1.618222e+09  b8:27:eb:6b:c4:60   -45\n",
      "8859  1.618222e+09  b8:27:eb:6b:c4:60   -33\n",
      "8860  1.618222e+09  b8:27:eb:6b:c4:60   -33\n",
      "8861  1.618222e+09  b8:27:eb:6b:c4:60    -7\n",
      "8863  1.618222e+09  b8:27:eb:6b:c4:60    -7\n",
      "8864  1.618222e+09  b8:27:eb:6b:c4:60    -7\n",
      "8988  1.618222e+09  b8:27:eb:6b:c4:60   -43\n",
      "8989  1.618222e+09  b8:27:eb:6b:c4:60   -39\n",
      "8990  1.618222e+09  b8:27:eb:6b:c4:60   -39\n",
      "8991  1.618222e+09  b8:27:eb:6b:c4:60   -35\n",
      "9002  1.618222e+09  b8:27:eb:6b:c4:60    -7\n",
      "9003  1.618222e+09  b8:27:eb:6b:c4:60    -7\n",
      "9005  1.618222e+09  b8:27:eb:6b:c4:60    -9\n",
      "9006  1.618222e+09  b8:27:eb:6b:c4:60    -9\n",
      "1618222546.0\n",
      "1618222559.0\n",
      "13\n",
      "<class 'numpy.ndarray'>\n",
      "[-43 -37 -37 -37 -33  -7  -7  -7  -7  -7]\n",
      "          epoch_ts        mac_address  rssi\n",
      "9352  1.618223e+09  b8:27:eb:6b:c4:60   -43\n",
      "9354  1.618223e+09  b8:27:eb:6b:c4:60   -37\n",
      "9355  1.618223e+09  b8:27:eb:6b:c4:60   -37\n",
      "9357  1.618223e+09  b8:27:eb:6b:c4:60   -37\n",
      "9359  1.618223e+09  b8:27:eb:6b:c4:60   -33\n",
      "9360  1.618223e+09  b8:27:eb:6b:c4:60    -7\n",
      "9361  1.618223e+09  b8:27:eb:6b:c4:60    -7\n",
      "9362  1.618223e+09  b8:27:eb:6b:c4:60    -7\n",
      "9363  1.618223e+09  b8:27:eb:6b:c4:60    -7\n",
      "9364  1.618223e+09  b8:27:eb:6b:c4:60    -7\n",
      "1618222649.0\n",
      "-23.181818181818183\n"
     ]
    }
   ],
   "source": [
    "\n",
    "s = 0\n",
    "cnt = 0\n",
    "for low, high, num in zip(enter_station, leave_station, pass_between_station):\n",
    "    print(float(low))\n",
    "    print(num)\n",
    "    \n",
    "    raspberry = reduced_data[(data[\"epoch_ts\"] > float(low)) & (data[\"epoch_ts\"] < float(high))]\n",
    "    raspberry = raspberry[raspberry[\"mac_address\"] == \"b8:27:eb:6b:c4:60\"]\n",
    "    rssi = raspberry[\"rssi\"].to_numpy()\n",
    "    print(type(rssi))\n",
    "    print(rssi)\n",
    "    s += sum(rssi)\n",
    "    cnt += len(rssi)\n",
    "    print(raspberry)\n",
    "    print(float(high))\n",
    "    \n",
    "#    b8:27:eb:6b:c4:60\n",
    "\n",
    "print(s/cnt)"
   ]
  },
  {
   "cell_type": "code",
   "execution_count": 5,
   "metadata": {},
   "outputs": [
    {
     "name": "stdout",
     "output_type": "stream",
     "text": [
      "1618219347.84\n",
      "12\n"
     ]
    },
    {
     "data": {
      "image/png": "[encoded data removed]",
      "text/plain": [
       "<Figure size 432x288 with 1 Axes>"
      ]
     },
     "metadata": {
      "needs_background": "light"
     },
     "output_type": "display_data"
    },
    {
     "name": "stdout",
     "output_type": "stream",
     "text": [
      "1618219367.0\n",
      "1618219383.0\n",
      "14\n"
     ]
    },
    {
     "data": {
      "image/png": "[encoded data removed]",
      "text/plain": [
       "<Figure size 432x288 with 1 Axes>"
      ]
     },
     "metadata": {
      "needs_background": "light"
     },
     "output_type": "display_data"
    },
    {
     "name": "stdout",
     "output_type": "stream",
     "text": [
      "1618219443.0\n",
      "1618219456.0\n",
      "18\n"
     ]
    },
    {
     "data": {
      "image/png": "[encoded data removed]",
      "text/plain": [
       "<Figure size 432x288 with 1 Axes>"
      ]
     },
     "metadata": {
      "needs_background": "light"
     },
     "output_type": "display_data"
    },
    {
     "name": "stdout",
     "output_type": "stream",
     "text": [
      "1618219526.0\n",
      "1618219539.0\n",
      "17\n"
     ]
    },
    {
     "data": {
      "image/png": "[encoded data removed]",
      "text/plain": [
       "<Figure size 432x288 with 1 Axes>"
      ]
     },
     "metadata": {
      "needs_background": "light"
     },
     "output_type": "display_data"
    },
    {
     "name": "stdout",
     "output_type": "stream",
     "text": [
      "1618219587.0\n",
      "1618219599.0\n",
      "10\n"
     ]
    },
    {
     "data": {
      "image/png": "[encoded data removed]",
      "text/plain": [
       "<Figure size 432x288 with 1 Axes>"
      ]
     },
     "metadata": {
      "needs_background": "light"
     },
     "output_type": "display_data"
    },
    {
     "name": "stdout",
     "output_type": "stream",
     "text": [
      "1618219659.0\n",
      "1618219675.0\n",
      "11\n"
     ]
    },
    {
     "data": {
      "image/png": "[encoded data removed]",
      "text/plain": [
       "<Figure size 432x288 with 1 Axes>"
      ]
     },
     "metadata": {
      "needs_background": "light"
     },
     "output_type": "display_data"
    },
    {
     "name": "stdout",
     "output_type": "stream",
     "text": [
      "1618219727.0\n",
      "1618219756.0\n",
      "7\n"
     ]
    },
    {
     "data": {
      "image/png": "[encoded data removed]",
      "text/plain": [
       "<Figure size 432x288 with 1 Axes>"
      ]
     },
     "metadata": {
      "needs_background": "light"
     },
     "output_type": "display_data"
    },
    {
     "name": "stdout",
     "output_type": "stream",
     "text": [
      "1618219800.0\n",
      "1618219813.0\n",
      "8\n"
     ]
    },
    {
     "data": {
      "image/png": "[encoded data removed]",
      "text/plain": [
       "<Figure size 432x288 with 1 Axes>"
      ]
     },
     "metadata": {
      "needs_background": "light"
     },
     "output_type": "display_data"
    },
    {
     "name": "stdout",
     "output_type": "stream",
     "text": [
      "1618219938.0\n",
      "1618219959.0\n",
      "10\n"
     ]
    },
    {
     "data": {
      "image/png": "[encoded data removed]",
      "text/plain": [
       "<Figure size 432x288 with 1 Axes>"
      ]
     },
     "metadata": {
      "needs_background": "light"
     },
     "output_type": "display_data"
    },
    {
     "name": "stdout",
     "output_type": "stream",
     "text": [
      "1618220033.0\n",
      "1618220056.0\n",
      "15\n"
     ]
    },
    {
     "data": {
      "image/png": "[encoded data removed]",
      "text/plain": [
       "<Figure size 432x288 with 1 Axes>"
      ]
     },
     "metadata": {
      "needs_background": "light"
     },
     "output_type": "display_data"
    },
    {
     "name": "stdout",
     "output_type": "stream",
     "text": [
      "1618220134.0\n",
      "1618220146.0\n",
      "13\n"
     ]
    },
    {
     "data": {
      "image/png": "[encoded data removed]",
      "text/plain": [
       "<Figure size 432x288 with 1 Axes>"
      ]
     },
     "metadata": {
      "needs_background": "light"
     },
     "output_type": "display_data"
    },
    {
     "name": "stdout",
     "output_type": "stream",
     "text": [
      "1618220193.0\n",
      "1618220206.0\n",
      "12\n"
     ]
    },
    {
     "data": {
      "image/png": "[encoded data removed]",
      "text/plain": [
       "<Figure size 432x288 with 1 Axes>"
      ]
     },
     "metadata": {
      "needs_background": "light"
     },
     "output_type": "display_data"
    },
    {
     "name": "stdout",
     "output_type": "stream",
     "text": [
      "1618220296.0\n",
      "1618220311.0\n",
      "12\n"
     ]
    },
    {
     "data": {
      "image/png": "[encoded data removed]",
      "text/plain": [
       "<Figure size 432x288 with 1 Axes>"
      ]
     },
     "metadata": {
      "needs_background": "light"
     },
     "output_type": "display_data"
    },
    {
     "name": "stdout",
     "output_type": "stream",
     "text": [
      "1618220388.0\n",
      "1618220402.0\n",
      "16\n"
     ]
    },
    {
     "data": {
      "image/png": "[encoded data removed]",
      "text/plain": [
       "<Figure size 432x288 with 1 Axes>"
      ]
     },
     "metadata": {
      "needs_background": "light"
     },
     "output_type": "display_data"
    },
    {
     "name": "stdout",
     "output_type": "stream",
     "text": [
      "1618220464.0\n",
      "1618220478.0\n",
      "18\n"
     ]
    },
    {
     "data": {
      "image/png": "[encoded data removed]",
      "text/plain": [
       "<Figure size 432x288 with 1 Axes>"
      ]
     },
     "metadata": {
      "needs_background": "light"
     },
     "output_type": "display_data"
    },
    {
     "name": "stdout",
     "output_type": "stream",
     "text": [
      "1618220533.0\n",
      "1618220551.0\n",
      "10\n"
     ]
    },
    {
     "data": {
      "image/png": "[encoded data removed]",
      "text/plain": [
       "<Figure size 432x288 with 1 Axes>"
      ]
     },
     "metadata": {
      "needs_background": "light"
     },
     "output_type": "display_data"
    },
    {
     "name": "stdout",
     "output_type": "stream",
     "text": [
      "1618220675.0\n",
      "1618220687.0\n",
      "13\n"
     ]
    },
    {
     "data": {
      "image/png": "[encoded data removed]",
      "text/plain": [
       "<Figure size 432x288 with 1 Axes>"
      ]
     },
     "metadata": {
      "needs_background": "light"
     },
     "output_type": "display_data"
    },
    {
     "name": "stdout",
     "output_type": "stream",
     "text": [
      "1618220797.0\n",
      "1618220808.0\n",
      "12\n"
     ]
    },
    {
     "data": {
      "image/png": "[encoded data removed]",
      "text/plain": [
       "<Figure size 432x288 with 1 Axes>"
      ]
     },
     "metadata": {
      "needs_background": "light"
     },
     "output_type": "display_data"
    },
    {
     "name": "stdout",
     "output_type": "stream",
     "text": [
      "1618220955.0\n",
      "1618220971.0\n",
      "12\n"
     ]
    },
    {
     "data": {
      "image/png": "[encoded data removed]",
      "text/plain": [
       "<Figure size 432x288 with 1 Axes>"
      ]
     },
     "metadata": {
      "needs_background": "light"
     },
     "output_type": "display_data"
    },
    {
     "name": "stdout",
     "output_type": "stream",
     "text": [
      "1618221034.0\n",
      "1618221091.0\n",
      "14\n"
     ]
    },
    {
     "data": {
      "image/png": "[encoded data removed]",
      "text/plain": [
       "<Figure size 432x288 with 1 Axes>"
      ]
     },
     "metadata": {
      "needs_background": "light"
     },
     "output_type": "display_data"
    },
    {
     "name": "stdout",
     "output_type": "stream",
     "text": [
      "1618221172.0\n",
      "1618221185.0\n",
      "18\n"
     ]
    },
    {
     "data": {
      "image/png": "[encoded data removed]",
      "text/plain": [
       "<Figure size 432x288 with 1 Axes>"
      ]
     },
     "metadata": {
      "needs_background": "light"
     },
     "output_type": "display_data"
    },
    {
     "name": "stdout",
     "output_type": "stream",
     "text": [
      "1618221252.0\n",
      "1618221267.0\n",
      "16\n"
     ]
    },
    {
     "data": {
      "image/png": "[encoded data removed]",
      "text/plain": [
       "<Figure size 432x288 with 1 Axes>"
      ]
     },
     "metadata": {
      "needs_background": "light"
     },
     "output_type": "display_data"
    },
    {
     "name": "stdout",
     "output_type": "stream",
     "text": [
      "1618221366.0\n",
      "1618221381.0\n",
      "13\n"
     ]
    },
    {
     "data": {
      "image/png": "[encoded data removed]",
      "text/plain": [
       "<Figure size 432x288 with 1 Axes>"
      ]
     },
     "metadata": {
      "needs_background": "light"
     },
     "output_type": "display_data"
    },
    {
     "name": "stdout",
     "output_type": "stream",
     "text": [
      "1618221625.0\n",
      "1618221634.0\n",
      "9\n"
     ]
    },
    {
     "data": {
      "image/png": "[encoded data removed]",
      "text/plain": [
       "<Figure size 432x288 with 1 Axes>"
      ]
     },
     "metadata": {
      "needs_background": "light"
     },
     "output_type": "display_data"
    },
    {
     "name": "stdout",
     "output_type": "stream",
     "text": [
      "1618221722.0\n",
      "1618221734.0\n",
      "17\n"
     ]
    },
    {
     "data": {
      "image/png": "[encoded data removed]",
      "text/plain": [
       "<Figure size 432x288 with 1 Axes>"
      ]
     },
     "metadata": {
      "needs_background": "light"
     },
     "output_type": "display_data"
    },
    {
     "name": "stdout",
     "output_type": "stream",
     "text": [
      "1618221815.0\n",
      "1618221830.0\n",
      "14\n"
     ]
    },
    {
     "data": {
      "image/png": "[encoded data removed]",
      "text/plain": [
       "<Figure size 432x288 with 1 Axes>"
      ]
     },
     "metadata": {
      "needs_background": "light"
     },
     "output_type": "display_data"
    },
    {
     "name": "stdout",
     "output_type": "stream",
     "text": [
      "1618221988.0\n",
      "1618221999.0\n",
      "15\n"
     ]
    },
    {
     "data": {
      "image/png": "[encoded data removed]",
      "text/plain": [
       "<Figure size 432x288 with 1 Axes>"
      ]
     },
     "metadata": {
      "needs_background": "light"
     },
     "output_type": "display_data"
    },
    {
     "name": "stdout",
     "output_type": "stream",
     "text": [
      "1618222143.0\n",
      "1618222170.0\n",
      "16\n"
     ]
    },
    {
     "data": {
      "image/png": "[encoded data removed]",
      "text/plain": [
       "<Figure size 432x288 with 1 Axes>"
      ]
     },
     "metadata": {
      "needs_background": "light"
     },
     "output_type": "display_data"
    },
    {
     "name": "stdout",
     "output_type": "stream",
     "text": [
      "1618222236.0\n",
      "1618222243.0\n",
      "14\n"
     ]
    },
    {
     "data": {
      "image/png": "[encoded data removed]",
      "text/plain": [
       "<Figure size 432x288 with 1 Axes>"
      ]
     },
     "metadata": {
      "needs_background": "light"
     },
     "output_type": "display_data"
    },
    {
     "name": "stdout",
     "output_type": "stream",
     "text": [
      "1618222287.0\n",
      "1618222301.0\n",
      "15\n"
     ]
    },
    {
     "data": {
      "image/png": "[encoded data removed]",
      "text/plain": [
       "<Figure size 432x288 with 1 Axes>"
      ]
     },
     "metadata": {
      "needs_background": "light"
     },
     "output_type": "display_data"
    },
    {
     "name": "stdout",
     "output_type": "stream",
     "text": [
      "1618222360.0\n",
      "1618222371.0\n",
      "13\n"
     ]
    },
    {
     "data": {
      "image/png": "[encoded data removed]",
      "text/plain": [
       "<Figure size 432x288 with 1 Axes>"
      ]
     },
     "metadata": {
      "needs_background": "light"
     },
     "output_type": "display_data"
    },
    {
     "name": "stdout",
     "output_type": "stream",
     "text": [
      "1618222546.0\n",
      "1618222559.0\n",
      "13\n"
     ]
    },
    {
     "data": {
      "image/png": "[encoded data removed]",
      "text/plain": [
       "<Figure size 432x288 with 1 Axes>"
      ]
     },
     "metadata": {
      "needs_background": "light"
     },
     "output_type": "display_data"
    },
    {
     "name": "stdout",
     "output_type": "stream",
     "text": [
      "1618222649.0\n"
     ]
    }
   ],
   "source": [
    "rssi_raspberry = -23.182\n",
    "input_file = open(output_path + \"/in_\" + trip + \".txt\",\"w\")\n",
    "output_file = open(output_path + \"/out_\" + trip + \".txt\",\"w\")\n",
    "num_bins = 50\n",
    "N = 3\n",
    "for low, high, num in zip(enter_station, leave_station, pass_between_station):\n",
    "    print(float(low))\n",
    "    print(num)\n",
    "    stop_to_stop = reduced_data[(data[\"epoch_ts\"] > float(low)) & (data[\"epoch_ts\"] < float(high))]\n",
    "    \n",
    "#    plt.figure()\n",
    "#    plt.title(num)\n",
    "#    stop_to_stop[\"epoch_ts\"].hist(bins = num_bins)\n",
    "    \"\"\"\n",
    "    ax = plt.gca() # get axis handle\n",
    "    p = ax.patches\n",
    "    heights = [patch.get_height() for patch in p]    #print(p)\n",
    "    for i in range(len(heights) - 1):\n",
    "        input_file.write(str(heights[i]) + \",\")\n",
    "    input_file.write(str(heights[-1]) + \"\\n\")\n",
    "    output_file.write(str(num) + \"\\n\")\n",
    "    \"\"\"\n",
    "    radius_stop = stop_to_stop[(10**((rssi_raspberry - stop_to_stop[\"rssi\"].to_numpy()) / 10 / N)) < 30 ]\n",
    "    plt.figure()\n",
    "    plt.title(num)\n",
    "    radius_stop[\"rssi\"].hist(bins = num_bins)\n",
    "    ax = plt.gca() # get axis handle\n",
    "    p = ax.patches\n",
    "    heights = [patch.get_height() for patch in p]    #print(p)\n",
    "    for i in range(len(heights) - 1):\n",
    "        input_file.write(str(heights[i]) + \",\")\n",
    "    input_file.write(str(heights[-1]) + \"\\n\")\n",
    "    output_file.write(str(num) + \"\\n\")\n",
    "    plt.show()\n",
    "    \"\"\"\n",
    "    distance_raspberry = 10**((rssi_raspberry - stop_to_stop[\"rssi\"].to_numpy()) / 10 / N)\n",
    "    plt.title(num)\n",
    "    plt.hist(distance_raspberry, bins = num_bins)\n",
    "    plt.show()\n",
    "    \"\"\"\n",
    "#    plt.show()\n",
    "#    plt.figure()\n",
    "#    stop_to_stop[\"rssi\"].hist(bins = num_bins)\n",
    "#    plt.show()\n",
    "    print(float(high))\n",
    "    \n",
    "input_file.close()\n",
    "output_file.close()"
   ]
  },
  {
   "cell_type": "code",
   "execution_count": null,
   "metadata": {},
   "outputs": [],
   "source": []
  },
  {
   "cell_type": "code",
   "execution_count": null,
   "metadata": {},
   "outputs": [],
   "source": []
  },
  {
   "cell_type": "code",
   "execution_count": null,
   "metadata": {},
   "outputs": [],
   "source": []
  },
  {
   "cell_type": "code",
   "execution_count": null,
   "metadata": {},
   "outputs": [],
   "source": []
  },
  {
   "cell_type": "code",
   "execution_count": null,
   "metadata": {},
   "outputs": [],
   "source": []
  }
 ],
 "metadata": {
  "kernelspec": {
   "display_name": "Python 3",
   "language": "python",
   "name": "python3"
  },
  "language_info": {
   "codemirror_mode": {
    "name": "ipython",
    "version": 3
   },
   "file_extension": ".py",
   "mimetype": "text/x-python",
   "name": "python",
   "nbconvert_exporter": "python",
   "pygments_lexer": "ipython3",
   "version": "3.7.3"
  }
 },
 "nbformat": 4,
 "nbformat_minor": 2
}
