{
 "cells": [
  {
   "cell_type": "code",
   "execution_count": 1,
   "metadata": {},
   "outputs": [],
   "source": [
    "import numpy as np\n",
    "import pandas as pd\n",
    "import matplotlib.pyplot as plt\n",
    "import time\n",
    "path = \".././data_4_ScienceHack2021/\"\n",
    "output_path = \"./processed_data\"\n",
    "map_file_data = \"./map_data\"\n",
    "trip = 'trip_' + str(12)\n"
   ]
  },
  {
   "cell_type": "code",
   "execution_count": 2,
   "metadata": {},
   "outputs": [],
   "source": [
    "pass_data = pd.read_csv(path + trip + '/passenger_count_nums', sep=',', skiprows=[1])\n",
    "enter_station = pass_data[pass_data[\"Number_of_Passengers\"] == -10][\"Epoch_Time\"].to_numpy()\n",
    "leave_station = pass_data[pass_data[\"Number_of_Passengers\"] == -99][\"Epoch_Time\"].to_numpy()\n",
    "pass_between_station = pass_data[(pass_data[\"Number_of_Passengers\"] != -99) & (pass_data[\"Number_of_Passengers\"] != -10)][\"Number_of_Passengers\"].to_numpy()\n"
   ]
  },
  {
   "cell_type": "code",
   "execution_count": 3,
   "metadata": {
    "scrolled": false
   },
   "outputs": [],
   "source": [
    "data = pd.read_csv(path + trip + '/wifi_data.csv', sep=';')\n",
    "#data = data[(data[\"epoch_ts\"] > float(leave_station[0]))]\n",
    "reduced_data = data[['epoch_ts', 'mac_address', 'rssi']]\n",
    "#data"
   ]
  },
  {
   "cell_type": "code",
   "execution_count": 4,
   "metadata": {},
   "outputs": [
    {
     "name": "stdout",
     "output_type": "stream",
     "text": [
      "1618511900.81\n",
      "11\n",
      "<class 'numpy.ndarray'>\n",
      "[-14 -14 -12 -14 -16 -10 -12 -16]\n",
      "         epoch_ts        mac_address  rssi\n",
      "254  1.618512e+09  b8:27:eb:6b:c4:60   -14\n",
      "255  1.618512e+09  b8:27:eb:6b:c4:60   -14\n",
      "256  1.618512e+09  b8:27:eb:6b:c4:60   -12\n",
      "257  1.618512e+09  b8:27:eb:6b:c4:60   -14\n",
      "258  1.618512e+09  b8:27:eb:6b:c4:60   -16\n",
      "375  1.618512e+09  b8:27:eb:6b:c4:60   -10\n",
      "376  1.618512e+09  b8:27:eb:6b:c4:60   -12\n",
      "377  1.618512e+09  b8:27:eb:6b:c4:60   -16\n",
      "1618512021.4\n",
      "1618512035.6\n",
      "12\n",
      "<class 'numpy.ndarray'>\n",
      "[-41 -12 -14 -10 -12 -12 -10  -8]\n",
      "         epoch_ts        mac_address  rssi\n",
      "448  1.618512e+09  b8:27:eb:6b:c4:60   -41\n",
      "449  1.618512e+09  b8:27:eb:6b:c4:60   -12\n",
      "450  1.618512e+09  b8:27:eb:6b:c4:60   -14\n",
      "451  1.618512e+09  b8:27:eb:6b:c4:60   -10\n",
      "452  1.618512e+09  b8:27:eb:6b:c4:60   -12\n",
      "534  1.618512e+09  b8:27:eb:6b:c4:60   -12\n",
      "535  1.618512e+09  b8:27:eb:6b:c4:60   -10\n",
      "536  1.618512e+09  b8:27:eb:6b:c4:60    -8\n",
      "1618512102.47\n",
      "1618512119.46\n",
      "10\n",
      "<class 'numpy.ndarray'>\n",
      "[-39 -41 -10 -12]\n",
      "         epoch_ts        mac_address  rssi\n",
      "615  1.618512e+09  b8:27:eb:6b:c4:60   -39\n",
      "616  1.618512e+09  b8:27:eb:6b:c4:60   -41\n",
      "617  1.618512e+09  b8:27:eb:6b:c4:60   -10\n",
      "618  1.618512e+09  b8:27:eb:6b:c4:60   -12\n",
      "1618512189.01\n",
      "1618512200.06\n",
      "9\n",
      "<class 'numpy.ndarray'>\n",
      "[-39  -8 -10  -8  -6 -10 -12]\n",
      "         epoch_ts        mac_address  rssi\n",
      "681  1.618512e+09  b8:27:eb:6b:c4:60   -39\n",
      "682  1.618512e+09  b8:27:eb:6b:c4:60    -8\n",
      "683  1.618512e+09  b8:27:eb:6b:c4:60   -10\n",
      "684  1.618512e+09  b8:27:eb:6b:c4:60    -8\n",
      "685  1.618512e+09  b8:27:eb:6b:c4:60    -6\n",
      "686  1.618512e+09  b8:27:eb:6b:c4:60   -10\n",
      "687  1.618512e+09  b8:27:eb:6b:c4:60   -12\n",
      "1618512266.85\n",
      "1618512287.2\n",
      "8\n",
      "<class 'numpy.ndarray'>\n",
      "[-39  -8  -8  -8 -10]\n",
      "         epoch_ts        mac_address  rssi\n",
      "886  1.618512e+09  b8:27:eb:6b:c4:60   -39\n",
      "887  1.618512e+09  b8:27:eb:6b:c4:60    -8\n",
      "889  1.618512e+09  b8:27:eb:6b:c4:60    -8\n",
      "890  1.618512e+09  b8:27:eb:6b:c4:60    -8\n",
      "891  1.618512e+09  b8:27:eb:6b:c4:60   -10\n",
      "1618512349.27\n",
      "1618512366.81\n",
      "15\n",
      "<class 'numpy.ndarray'>\n",
      "[-10 -12  -8  -6  -8]\n",
      "         epoch_ts        mac_address  rssi\n",
      "988  1.618512e+09  b8:27:eb:6b:c4:60   -10\n",
      "989  1.618512e+09  b8:27:eb:6b:c4:60   -12\n",
      "990  1.618512e+09  b8:27:eb:6b:c4:60    -8\n",
      "994  1.618512e+09  b8:27:eb:6b:c4:60    -6\n",
      "995  1.618512e+09  b8:27:eb:6b:c4:60    -8\n",
      "1618512406.97\n",
      "1618512422.25\n",
      "15\n",
      "<class 'numpy.ndarray'>\n",
      "[-10 -10  -8  -6 -10]\n",
      "          epoch_ts        mac_address  rssi\n",
      "1080  1.618512e+09  b8:27:eb:6b:c4:60   -10\n",
      "1081  1.618512e+09  b8:27:eb:6b:c4:60   -10\n",
      "1082  1.618512e+09  b8:27:eb:6b:c4:60    -8\n",
      "1083  1.618512e+09  b8:27:eb:6b:c4:60    -6\n",
      "1084  1.618512e+09  b8:27:eb:6b:c4:60   -10\n",
      "1618512503.97\n",
      "1618512514.25\n",
      "16\n",
      "<class 'numpy.ndarray'>\n",
      "[-39 -10  -8  -6]\n",
      "          epoch_ts        mac_address  rssi\n",
      "1169  1.618513e+09  b8:27:eb:6b:c4:60   -39\n",
      "1170  1.618513e+09  b8:27:eb:6b:c4:60   -10\n",
      "1171  1.618513e+09  b8:27:eb:6b:c4:60    -8\n",
      "1172  1.618513e+09  b8:27:eb:6b:c4:60    -6\n",
      "1618512575.39\n",
      "1618512586.94\n",
      "17\n",
      "<class 'numpy.ndarray'>\n",
      "[-53 -24 -18 -16 -18 -20]\n",
      "          epoch_ts        mac_address  rssi\n",
      "1385  1.618513e+09  b8:27:eb:6b:c4:60   -53\n",
      "1386  1.618513e+09  b8:27:eb:6b:c4:60   -24\n",
      "1388  1.618513e+09  b8:27:eb:6b:c4:60   -18\n",
      "1389  1.618513e+09  b8:27:eb:6b:c4:60   -16\n",
      "1390  1.618513e+09  b8:27:eb:6b:c4:60   -18\n",
      "1391  1.618513e+09  b8:27:eb:6b:c4:60   -20\n",
      "1618512682.44\n",
      "1618512698.72\n",
      "14\n",
      "<class 'numpy.ndarray'>\n",
      "[]\n",
      "Empty DataFrame\n",
      "Columns: [epoch_ts, mac_address, rssi]\n",
      "Index: []\n",
      "1618512746.31\n",
      "1618512759.13\n",
      "12\n",
      "<class 'numpy.ndarray'>\n",
      "[]\n",
      "Empty DataFrame\n",
      "Columns: [epoch_ts, mac_address, rssi]\n",
      "Index: []\n",
      "1618512791.64\n",
      "1618512803.17\n",
      "11\n",
      "<class 'numpy.ndarray'>\n",
      "[-47 -16 -71 -12 -16]\n",
      "          epoch_ts        mac_address  rssi\n",
      "1698  1.618513e+09  b8:27:eb:6b:c4:60   -47\n",
      "1702  1.618513e+09  b8:27:eb:6b:c4:60   -16\n",
      "1703  1.618513e+09  b8:27:eb:6b:c4:60   -71\n",
      "1704  1.618513e+09  b8:27:eb:6b:c4:60   -12\n",
      "1705  1.618513e+09  b8:27:eb:6b:c4:60   -16\n",
      "1618512859.31\n",
      "1618512944.19\n",
      "12\n",
      "<class 'numpy.ndarray'>\n",
      "[]\n",
      "Empty DataFrame\n",
      "Columns: [epoch_ts, mac_address, rssi]\n",
      "Index: []\n",
      "1618512966.76\n",
      "1618513034.96\n",
      "10\n",
      "<class 'numpy.ndarray'>\n",
      "[-51 -18 -16 -16 -16 -49 -20 -20 -14 -14]\n",
      "          epoch_ts        mac_address  rssi\n",
      "2296  1.618513e+09  b8:27:eb:6b:c4:60   -51\n",
      "2297  1.618513e+09  b8:27:eb:6b:c4:60   -18\n",
      "2299  1.618513e+09  b8:27:eb:6b:c4:60   -16\n",
      "2301  1.618513e+09  b8:27:eb:6b:c4:60   -16\n",
      "2302  1.618513e+09  b8:27:eb:6b:c4:60   -16\n",
      "2455  1.618513e+09  b8:27:eb:6b:c4:60   -49\n",
      "2456  1.618513e+09  b8:27:eb:6b:c4:60   -20\n",
      "2457  1.618513e+09  b8:27:eb:6b:c4:60   -20\n",
      "2458  1.618513e+09  b8:27:eb:6b:c4:60   -14\n",
      "2459  1.618513e+09  b8:27:eb:6b:c4:60   -14\n",
      "1618513119.71\n",
      "1618513133.41\n",
      "10\n",
      "<class 'numpy.ndarray'>\n",
      "[-53 -16 -16 -16 -18]\n",
      "          epoch_ts        mac_address  rssi\n",
      "2557  1.618513e+09  b8:27:eb:6b:c4:60   -53\n",
      "2558  1.618513e+09  b8:27:eb:6b:c4:60   -16\n",
      "2559  1.618513e+09  b8:27:eb:6b:c4:60   -16\n",
      "2560  1.618513e+09  b8:27:eb:6b:c4:60   -16\n",
      "2562  1.618513e+09  b8:27:eb:6b:c4:60   -18\n",
      "1618513181.0\n",
      "1618513190.2\n",
      "8\n",
      "<class 'numpy.ndarray'>\n",
      "[-18 -16 -14 -79 -73 -16]\n",
      "          epoch_ts        mac_address  rssi\n",
      "2677  1.618513e+09  b8:27:eb:6b:c4:60   -18\n",
      "2678  1.618513e+09  b8:27:eb:6b:c4:60   -16\n",
      "2679  1.618513e+09  b8:27:eb:6b:c4:60   -14\n",
      "2680  1.618513e+09  b8:27:eb:6b:c4:60   -79\n",
      "2681  1.618513e+09  b8:27:eb:6b:c4:60   -73\n",
      "2682  1.618513e+09  b8:27:eb:6b:c4:60   -16\n",
      "1618513258.42\n",
      "1618513268.17\n",
      "7\n",
      "<class 'numpy.ndarray'>\n",
      "[-45 -14  -2  -8 -18]\n",
      "          epoch_ts        mac_address  rssi\n",
      "2778  1.618513e+09  b8:27:eb:6b:c4:60   -45\n",
      "2779  1.618513e+09  b8:27:eb:6b:c4:60   -14\n",
      "2780  1.618513e+09  b8:27:eb:6b:c4:60    -2\n",
      "2781  1.618513e+09  b8:27:eb:6b:c4:60    -8\n",
      "2782  1.618513e+09  b8:27:eb:6b:c4:60   -18\n",
      "1618513299.05\n",
      "-19.433734939759034\n"
     ]
    }
   ],
   "source": [
    "\n",
    "s = 0\n",
    "cnt = 0\n",
    "for low, high, num in zip(enter_station, leave_station, pass_between_station):\n",
    "    print(float(low))\n",
    "    print(num)\n",
    "    \n",
    "    raspberry = reduced_data[(data[\"epoch_ts\"] > float(low)) & (data[\"epoch_ts\"] < float(high))]\n",
    "    raspberry = raspberry[raspberry[\"mac_address\"] == \"b8:27:eb:6b:c4:60\"]\n",
    "    rssi = raspberry[\"rssi\"].to_numpy()\n",
    "    print(type(rssi))\n",
    "    print(rssi)\n",
    "    s += sum(rssi)\n",
    "    cnt += len(rssi)\n",
    "    print(raspberry)\n",
    "    print(float(high))\n",
    "    \n",
    "#    b8:27:eb:6b:c4:60\n",
    "\n",
    "print(s/cnt)"
   ]
  },
  {
   "cell_type": "code",
   "execution_count": 5,
   "metadata": {},
   "outputs": [
    {
     "name": "stdout",
     "output_type": "stream",
     "text": [
      "1618511900.81\n",
      "11\n"
     ]
    },
    {
     "data": {
      "image/png": "[encoded data removed]",
      "text/plain": [
       "<Figure size 432x288 with 1 Axes>"
      ]
     },
     "metadata": {
      "needs_background": "light"
     },
     "output_type": "display_data"
    },
    {
     "name": "stdout",
     "output_type": "stream",
     "text": [
      "1618512021.4\n",
      "1618512035.6\n",
      "12\n"
     ]
    },
    {
     "data": {
      "image/png": "[encoded data removed]",
      "text/plain": [
       "<Figure size 432x288 with 1 Axes>"
      ]
     },
     "metadata": {
      "needs_background": "light"
     },
     "output_type": "display_data"
    },
    {
     "name": "stdout",
     "output_type": "stream",
     "text": [
      "1618512102.47\n",
      "1618512119.46\n",
      "10\n"
     ]
    },
    {
     "data": {
      "image/png": "[encoded data removed]",
      "text/plain": [
       "<Figure size 432x288 with 1 Axes>"
      ]
     },
     "metadata": {
      "needs_background": "light"
     },
     "output_type": "display_data"
    },
    {
     "name": "stdout",
     "output_type": "stream",
     "text": [
      "1618512189.01\n",
      "1618512200.06\n",
      "9\n"
     ]
    },
    {
     "data": {
      "image/png": "[encoded data removed]",
      "text/plain": [
       "<Figure size 432x288 with 1 Axes>"
      ]
     },
     "metadata": {
      "needs_background": "light"
     },
     "output_type": "display_data"
    },
    {
     "name": "stdout",
     "output_type": "stream",
     "text": [
      "1618512266.85\n",
      "1618512287.2\n",
      "8\n"
     ]
    },
    {
     "data": {
      "image/png": "[encoded data removed]",
      "text/plain": [
       "<Figure size 432x288 with 1 Axes>"
      ]
     },
     "metadata": {
      "needs_background": "light"
     },
     "output_type": "display_data"
    },
    {
     "name": "stdout",
     "output_type": "stream",
     "text": [
      "1618512349.27\n",
      "1618512366.81\n",
      "15\n"
     ]
    },
    {
     "data": {
      "image/png": "[encoded data removed]",
      "text/plain": [
       "<Figure size 432x288 with 1 Axes>"
      ]
     },
     "metadata": {
      "needs_background": "light"
     },
     "output_type": "display_data"
    },
    {
     "name": "stdout",
     "output_type": "stream",
     "text": [
      "1618512406.97\n",
      "1618512422.25\n",
      "15\n"
     ]
    },
    {
     "data": {
      "image/png": "[encoded data removed]",
      "text/plain": [
       "<Figure size 432x288 with 1 Axes>"
      ]
     },
     "metadata": {
      "needs_background": "light"
     },
     "output_type": "display_data"
    },
    {
     "name": "stdout",
     "output_type": "stream",
     "text": [
      "1618512503.97\n",
      "1618512514.25\n",
      "16\n"
     ]
    },
    {
     "data": {
      "image/png": "[encoded data removed]",
      "text/plain": [
       "<Figure size 432x288 with 1 Axes>"
      ]
     },
     "metadata": {
      "needs_background": "light"
     },
     "output_type": "display_data"
    },
    {
     "name": "stdout",
     "output_type": "stream",
     "text": [
      "1618512575.39\n",
      "1618512586.94\n",
      "17\n"
     ]
    },
    {
     "data": {
      "image/png": "[encoded data removed]",
      "text/plain": [
       "<Figure size 432x288 with 1 Axes>"
      ]
     },
     "metadata": {
      "needs_background": "light"
     },
     "output_type": "display_data"
    },
    {
     "name": "stdout",
     "output_type": "stream",
     "text": [
      "1618512682.44\n",
      "1618512698.72\n",
      "14\n"
     ]
    },
    {
     "data": {
      "image/png": "[encoded data removed]",
      "text/plain": [
       "<Figure size 432x288 with 1 Axes>"
      ]
     },
     "metadata": {
      "needs_background": "light"
     },
     "output_type": "display_data"
    },
    {
     "name": "stdout",
     "output_type": "stream",
     "text": [
      "1618512746.31\n",
      "1618512759.13\n",
      "12\n"
     ]
    },
    {
     "data": {
      "image/png": "[encoded data removed]",
      "text/plain": [
       "<Figure size 432x288 with 1 Axes>"
      ]
     },
     "metadata": {
      "needs_background": "light"
     },
     "output_type": "display_data"
    },
    {
     "name": "stdout",
     "output_type": "stream",
     "text": [
      "1618512791.64\n",
      "1618512803.17\n",
      "11\n"
     ]
    },
    {
     "data": {
      "image/png": "[encoded data removed]",
      "text/plain": [
       "<Figure size 432x288 with 1 Axes>"
      ]
     },
     "metadata": {
      "needs_background": "light"
     },
     "output_type": "display_data"
    },
    {
     "name": "stdout",
     "output_type": "stream",
     "text": [
      "1618512859.31\n",
      "1618512944.19\n",
      "12\n"
     ]
    },
    {
     "data": {
      "image/png": "[encoded data removed]",
      "text/plain": [
       "<Figure size 432x288 with 1 Axes>"
      ]
     },
     "metadata": {
      "needs_background": "light"
     },
     "output_type": "display_data"
    },
    {
     "name": "stdout",
     "output_type": "stream",
     "text": [
      "1618512966.76\n",
      "1618513034.96\n",
      "10\n"
     ]
    },
    {
     "data": {
      "image/png": "[encoded data removed]",
      "text/plain": [
       "<Figure size 432x288 with 1 Axes>"
      ]
     },
     "metadata": {
      "needs_background": "light"
     },
     "output_type": "display_data"
    },
    {
     "name": "stdout",
     "output_type": "stream",
     "text": [
      "1618513119.71\n",
      "1618513133.41\n",
      "10\n"
     ]
    },
    {
     "data": {
      "image/png": "[encoded data removed]",
      "text/plain": [
       "<Figure size 432x288 with 1 Axes>"
      ]
     },
     "metadata": {
      "needs_background": "light"
     },
     "output_type": "display_data"
    },
    {
     "name": "stdout",
     "output_type": "stream",
     "text": [
      "1618513181.0\n",
      "1618513190.2\n",
      "8\n"
     ]
    },
    {
     "data": {
      "image/png": "[encoded data removed]",
      "text/plain": [
       "<Figure size 432x288 with 1 Axes>"
      ]
     },
     "metadata": {
      "needs_background": "light"
     },
     "output_type": "display_data"
    },
    {
     "name": "stdout",
     "output_type": "stream",
     "text": [
      "1618513258.42\n",
      "1618513268.17\n",
      "7\n"
     ]
    },
    {
     "data": {
      "image/png": "[encoded data removed]",
      "text/plain": [
       "<Figure size 432x288 with 1 Axes>"
      ]
     },
     "metadata": {
      "needs_background": "light"
     },
     "output_type": "display_data"
    },
    {
     "name": "stdout",
     "output_type": "stream",
     "text": [
      "1618513299.05\n"
     ]
    }
   ],
   "source": [
    "rssi_raspberry = -23.182\n",
    "input_file = open(output_path + \"/in_\" + trip + \".txt\",\"w\")\n",
    "output_file = open(output_path + \"/out_\" + trip + \".txt\",\"w\")\n",
    "num_bins = 50\n",
    "N = 3\n",
    "for low, high, num in zip(enter_station, leave_station, pass_between_station):\n",
    "    print(float(low))\n",
    "    print(num)\n",
    "    stop_to_stop = reduced_data[(data[\"epoch_ts\"] > float(low)) & (data[\"epoch_ts\"] < float(high))]\n",
    "    \n",
    "#    plt.figure()\n",
    "#    plt.title(num)\n",
    "#    stop_to_stop[\"epoch_ts\"].hist(bins = num_bins)\n",
    "    \"\"\"\n",
    "    ax = plt.gca() # get axis handle\n",
    "    p = ax.patches\n",
    "    heights = [patch.get_height() for patch in p]    #print(p)\n",
    "    for i in range(len(heights) - 1):\n",
    "        input_file.write(str(heights[i]) + \",\")\n",
    "    input_file.write(str(heights[-1]) + \"\\n\")\n",
    "    output_file.write(str(num) + \"\\n\")\n",
    "    \"\"\"\n",
    "    radius_stop = stop_to_stop[(10**((rssi_raspberry - stop_to_stop[\"rssi\"].to_numpy()) / 10 / N)) < 30 ]\n",
    "    plt.figure()\n",
    "    plt.title(num)\n",
    "    radius_stop[\"rssi\"].hist(bins = num_bins)\n",
    "    ax = plt.gca() # get axis handle\n",
    "    p = ax.patches\n",
    "    heights = [patch.get_height() for patch in p]\n",
    "#    np.savetxt(\"ff.txt\", heights)\n",
    "    for i in range(len(heights) - 1):\n",
    "        input_file.write(str(heights[i]) + \" \")\n",
    "    input_file.write(str(heights[-1]) + \"\\n\")\n",
    "    if num <= 10:\n",
    "        output_file.write(str(0) + \"\\n\")\n",
    "    elif num <=20:\n",
    "        output_file.write(str(1) + \"\\n\")\n",
    "    elif num <= 30:\n",
    "        output_file.write(str(2) + \"\\n\")\n",
    "    elif num <= 40:\n",
    "        output_file.write(str(3) + \"\\n\")\n",
    "    elif num <= 50:\n",
    "        output_file.write(str(4) + \"\\n\")\n",
    "    else:\n",
    "        output_file.write(str(5) + \"\\n\")\n",
    "\n",
    "    plt.show()\n",
    "    \"\"\"\n",
    "    distance_raspberry = 10**((rssi_raspberry - stop_to_stop[\"rssi\"].to_numpy()) / 10 / N)\n",
    "    plt.title(num)\n",
    "    plt.hist(distance_raspberry, bins = num_bins)\n",
    "    plt.show()\n",
    "    \"\"\"\n",
    "#    plt.show()\n",
    "#    plt.figure()\n",
    "#    stop_to_stop[\"rssi\"].hist(bins = num_bins)\n",
    "#    plt.show()\n",
    "    print(float(high))\n",
    "    \n",
    "input_file.close()\n",
    "output_file.close()"
   ]
  },
  {
   "cell_type": "code",
   "execution_count": 6,
   "metadata": {},
   "outputs": [
    {
     "name": "stdout",
     "output_type": "stream",
     "text": [
      "1399\n"
     ]
    }
   ],
   "source": [
    "pass_data = pd.read_csv(path + trip + '/passenger_count_nums', sep=',', skiprows=[1])\n",
    "enter_station = pass_data[pass_data[\"Number_of_Passengers\"] == -10][\"Epoch_Time\"].to_numpy()\n",
    "leave_station = pass_data[pass_data[\"Number_of_Passengers\"] == -99][\"Epoch_Time\"].to_numpy()\n",
    "pass_between_station = pass_data[(pass_data[\"Number_of_Passengers\"] != -99) & (pass_data[\"Number_of_Passengers\"] != -10)][\"Number_of_Passengers\"].to_numpy()\n",
    "\n",
    "#print(len(enter_station), len(leave_station), len(pass_between_station))\n",
    "\n",
    "num_pass = []\n",
    "\n",
    "gps_data = pd.read_csv(path + trip + '/gps_data.csv', sep=',', skiprows = [1])\n",
    "\n",
    "for ep in gps_data['epoch_ts'].to_numpy():\n",
    "##    print(enter_station)\\n\",\n",
    "#    print(ep)\\n\",\n",
    "    for i in range(len(enter_station)):\n",
    "        if leave_station[i - 1] <= ep and ep <= enter_station[i]:\n",
    "            num_pass.append(pass_between_station[i - 1])\n",
    "        if enter_station[i] <= ep and ep <= leave_station[i]:\n",
    "            num_pass.append(pass_between_station[i])\n",
    "            break;\n",
    "print(len(num_pass))\n",
    "f_out = open(map_file_data + \"/pass_bus_out_\" + trip + \".csv\",\"w\")\n",
    "for i in range(len(num_pass)):\n",
    "    f_out.write(str(num_pass[i]) + \",\")\n",
    "f_out.close()\n",
    "\n",
    "lati_out = open(map_file_data + \"/latitude_bus_out_\" + trip + \".csv\",\"w\")\n",
    "for lati in gps_data[\"latitude\"].to_numpy():\n",
    "    lati_out.write(str(lati) + \",\")\n",
    "lati_out.close()    \n",
    "\n",
    "long_out = open(map_file_data + \"/longitude_bus_out_\" + trip + \".csv\",\"w\")\n",
    "for long in gps_data[\"longitude\"].to_numpy():\n",
    "    long_out.write(str(long) + \",\")\n",
    "long_out.close()    \n",
    "\n",
    "#np.savetxt(map_file_data + \"/latitude_bus_out_\" + trip + \".csv\", gps_data[\"latitude\"].to_numpy(), delimiter=\",\")\n",
    "#np.savetxt(map_file_data + \"/longitude_bus_out_\" + trip + \".csv\", gps_data[\"longitude\"].to_numpy(), delimiter=\",\")\n",
    "\n"
   ]
  }
 ],
 "metadata": {
  "kernelspec": {
   "display_name": "Python 3",
   "language": "python",
   "name": "python3"
  },
  "language_info": {
   "codemirror_mode": {
    "name": "ipython",
    "version": 3
   },
   "file_extension": ".py",
   "mimetype": "text/x-python",
   "name": "python",
   "nbconvert_exporter": "python",
   "pygments_lexer": "ipython3",
   "version": "3.7.3"
  }
 },
 "nbformat": 4,
 "nbformat_minor": 2
}
